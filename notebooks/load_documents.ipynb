{
 "cells": [
  {
   "cell_type": "code",
   "execution_count": 1,
   "metadata": {},
   "outputs": [
    {
     "name": "stdout",
     "output_type": "stream",
     "text": [
      "Note: you may need to restart the kernel to use updated packages.\n"
     ]
    },
    {
     "name": "stderr",
     "output_type": "stream",
     "text": [
      "\n",
      "[notice] A new release of pip is available: 24.3.1 -> 25.0\n",
      "[notice] To update, run: python.exe -m pip install --upgrade pip\n"
     ]
    }
   ],
   "source": [
    "%pip install -q langchain-elasticsearch"
   ]
  },
  {
   "cell_type": "code",
   "execution_count": 6,
   "metadata": {},
   "outputs": [
    {
     "name": "stdout",
     "output_type": "stream",
     "text": [
      "Note: you may need to restart the kernel to use updated packages.\n"
     ]
    },
    {
     "name": "stderr",
     "output_type": "stream",
     "text": [
      "\n",
      "[notice] A new release of pip is available: 24.3.1 -> 25.0\n",
      "[notice] To update, run: python.exe -m pip install --upgrade pip\n"
     ]
    }
   ],
   "source": [
    "%pip install -q sentence-transformers"
   ]
  },
  {
   "cell_type": "code",
   "execution_count": 10,
   "metadata": {},
   "outputs": [],
   "source": [
    "from uuid import uuid4\n",
    "from langchain_core.documents import Document\n",
    "from langchain_elasticsearch import ElasticsearchStore\n",
    "from langchain.embeddings import HuggingFaceEmbeddings"
   ]
  },
  {
   "cell_type": "code",
   "execution_count": 11,
   "metadata": {},
   "outputs": [],
   "source": [
    "embeddings = HuggingFaceEmbeddings(\n",
    "    model_name=\"ai-forever/sbert_large_nlu_ru\",\n",
    "    model_kwargs={\"device\": \"cpu\"},\n",
    "    encode_kwargs={'normalize_embeddings': False},\n",
    ")"
   ]
  },
  {
   "cell_type": "code",
   "execution_count": 15,
   "metadata": {},
   "outputs": [],
   "source": [
    "elastic_store = ElasticsearchStore(\n",
    "    es_url=\"http://localhost:9200\",\n",
    "    index_name=\"tyuiu_index\",\n",
    "    embedding=embeddings,\n",
    "    es_user=\"elastic\",\n",
    "    es_password=\"password\",\n",
    ")"
   ]
  },
  {
   "cell_type": "code",
   "execution_count": 20,
   "metadata": {},
   "outputs": [],
   "source": [
    "import os\n",
    "\n",
    "\n",
    "def read_files_in_directory(directory_path: str) -> str:\n",
    "    files = []\n",
    "    if not os.path.exists(directory_path):\n",
    "        return\n",
    "    for filename in os.listdir(directory_path):\n",
    "        file_path = os.path.join(directory_path, filename)\n",
    "        files.append(file_path)\n",
    "    return files\n",
    "\n",
    "\n",
    "directory_path = r'C:\\Users\\andre\\AdvancedRAG\\static\\chanks'\n",
    "files = read_files_in_directory(directory_path)"
   ]
  },
  {
   "cell_type": "code",
   "execution_count": 21,
   "metadata": {},
   "outputs": [],
   "source": [
    "def get_file_name(file_path: str) -> str:\n",
    "    return file_path.split(\"\\\\\")[-1]"
   ]
  },
  {
   "cell_type": "code",
   "execution_count": 23,
   "metadata": {},
   "outputs": [],
   "source": [
    "documents = [\n",
    "    Document(\n",
    "        page_content=open(file, 'r', encoding='utf-8').read(),\n",
    "        metadata={\"source\": get_file_name(file)}\n",
    "    )\n",
    "    for file in files\n",
    "]\n",
    "uuids = [str(uuid4()) for _ in range(len(documents))]"
   ]
  },
  {
   "cell_type": "code",
   "execution_count": 24,
   "metadata": {},
   "outputs": [
    {
     "data": {
      "text/plain": [
       "['4e1c5faa-ca80-4404-8228-7c80950628dd',\n",
       " '065d1715-76a8-42b5-ad05-df515defa8a3',\n",
       " '77094c96-1825-49c5-9291-b8bbe8847b4f',\n",
       " '675fb0ce-fd69-42e8-b892-d1a57bd5feee',\n",
       " 'ebc25145-b350-4cf9-b138-296adc528143',\n",
       " 'a76f866a-f005-4f4e-a384-18a01be5fcfc',\n",
       " 'cd49c0e8-eb86-40db-8e8c-d206985711a6',\n",
       " '72a79a05-5dd3-4bf8-9cec-48f92eeb3da5',\n",
       " 'd4655c9c-51ea-4a74-8250-0d102ce2c649',\n",
       " '6ed88792-0638-4dcc-b087-f3a41d6b2ac0',\n",
       " '999373ac-fe20-4fdb-a157-d0693eb85469',\n",
       " '0fba1210-c955-4e30-afbe-a1fc111bff7d',\n",
       " '43c51f36-f8c4-40dc-ad12-6d21836efd35',\n",
       " '3c35ca76-73e0-4756-8f95-0845ccb69206',\n",
       " '44abccbc-3e77-42fe-990c-6f00b13603ca',\n",
       " '9f9fa314-a6a2-442a-89bb-2b5955ac0f88',\n",
       " 'ab78d70e-87bf-48e8-9774-c064e5486f20',\n",
       " 'a7bf9346-3641-4e65-b838-f2224dbb0b0b',\n",
       " 'f608e506-0ca2-4269-82b1-258a655d4218',\n",
       " '71985a3b-0703-4658-85ce-17fedb1bc69b',\n",
       " '09729438-40f7-466a-a2df-8ce94748c2bf',\n",
       " '6561091a-4119-4141-9949-02331cd711f6',\n",
       " '9b4da1d3-00c8-46e2-8b90-7109da4d7c31',\n",
       " 'aa369d1c-a8f5-498a-aade-4d02566aadd1',\n",
       " 'fb2c7fc2-2c46-475d-a525-dfd5726d1802',\n",
       " '83155aa6-7e6c-4a07-8508-4ed53c5230f5',\n",
       " '7ea150cf-3417-420d-b005-9e85bd21c53a',\n",
       " 'd8eec326-7593-4600-b60f-0e6e66fbcfb0',\n",
       " '9ae87565-f35d-4d2b-b2bb-7d8504c904a4',\n",
       " 'f6519cc1-fece-4395-804a-90f509038ea7',\n",
       " '28112b7e-b47e-43f9-a6da-1b969845eba7',\n",
       " '5e17a058-1637-47ee-be34-9fdce3a7b219',\n",
       " 'c83966f7-61e8-4d44-8586-c3276acd8d6e',\n",
       " 'ac41873a-c320-42d6-8ca8-170d8e8f0415',\n",
       " '420e1860-8422-4b29-9b00-1b7df75acc35',\n",
       " '2c5a7479-d5b5-43f1-84a2-93289c963c78',\n",
       " '8b20260b-391c-470b-9514-722334053959',\n",
       " '59299c42-cb6f-4dbc-ae87-a46bb12f931c',\n",
       " '15168210-2fc1-41b8-b4cd-b0ddc87b4c06']"
      ]
     },
     "execution_count": 24,
     "metadata": {},
     "output_type": "execute_result"
    }
   ],
   "source": [
    "elastic_store.add_documents(documents=documents, ids=uuids)"
   ]
  },
  {
   "cell_type": "code",
   "execution_count": 30,
   "metadata": {},
   "outputs": [
    {
     "data": {
      "text/plain": [
       "[Document(metadata={'source': 'Общие положения 1.5.txt'}, page_content='Для поступления на программы с госаккредитацией требуется документ об образовании, подтверждающий успешное прохождение итоговой аттестации. Это может быть документ установленного образца от федеральных органов власти (например, Министерства образования), документ об образовании, полученный до 2014 года, а также документы, выданные МГУ, СПбГУ, организациями Сколково и инновационных научно-технологических центров. Также подойдут иностранные документы, если они признаны в РФ.\\nДля поступления на программы без госаккредитации принимаются те же документы, что и для аккредитованных программ, или документы об образовании, выданные самой организацией после успешной итоговой аттестации.'),\n",
       " Document(metadata={'source': 'Общие положения 1.1.txt'}, page_content='Эти правила определяют порядок приема в Тюменский индустриальный университет и его филиалы на программы бакалавриата, специалитета и магистратуры в 2025 году для граждан РФ, иностранцев и лиц без гражданства. Прием ведется как на бюджетные места, так и на платной основе.'),\n",
       " Document(metadata={'source': 'Общие положения 1.3-1.4.txt'}, page_content='Приём на обучение осуществляется на первый курс.\\nПриём на обучение осуществляется:\\nпо программам бакалавриата и программам специалитета ‒ при наличии у поступающих среднего общего образования, или среднего профессионального образования, или высшего образования;\\nпо программам магистратуры ‒ при наличии у поступающих высшего образования.\\nНаличие образования подтверждается документами об образовании или об образовании и о квалификации, выдаваемыми лицам, успешно прошедшим государственную итоговую аттестацию либо итоговую аттестацию (далее ‒ документы об образовании).'),\n",
       " Document(metadata={'source': 'Количество организаций, специальностей.txt'}, page_content='Количество организаций, специальностей и (или) направлений подготовки для одновременного поступления на обучение по программам бакалавриата и программам специалитета\\nПредельное количество организаций, в которые поступающий вправе одновременно поступать на обучение по программам бакалавриата и программам специалитета включая Университет, составляет 5.Предельное количество специальностей и (или) направлений подготовки, по которым поступающий вправе одновременно участвовать в конкурсе по программам бакалавриата и программам специалитета в Университете составляет 5.\\nВ Университете поступающий может одновременно поступать на обучение по различным конкурсным группам в рамках каждой специальности, каждого направления подготовки.\\n')]"
      ]
     },
     "execution_count": 30,
     "metadata": {},
     "output_type": "execute_result"
    }
   ],
   "source": [
    "docs = elastic_store.similarity_search(\"направления госаккредитацией\")\n",
    "docs"
   ]
  }
 ],
 "metadata": {
  "kernelspec": {
   "display_name": "Python 3",
   "language": "python",
   "name": "python3"
  },
  "language_info": {
   "codemirror_mode": {
    "name": "ipython",
    "version": 3
   },
   "file_extension": ".py",
   "mimetype": "text/x-python",
   "name": "python",
   "nbconvert_exporter": "python",
   "pygments_lexer": "ipython3",
   "version": "3.11.3"
  }
 },
 "nbformat": 4,
 "nbformat_minor": 2
}
