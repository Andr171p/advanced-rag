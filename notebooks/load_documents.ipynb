{
 "cells": [
  {
   "cell_type": "code",
   "execution_count": 16,
   "metadata": {},
   "outputs": [
    {
     "name": "stdout",
     "output_type": "stream",
     "text": [
      "Note: you may need to restart the kernel to use updated packages.\n"
     ]
    },
    {
     "name": "stderr",
     "output_type": "stream",
     "text": [
      "\n",
      "[notice] A new release of pip is available: 24.3.1 -> 25.0\n",
      "[notice] To update, run: python.exe -m pip install --upgrade pip\n"
     ]
    }
   ],
   "source": [
    "%pip install -q langchain-elasticsearch"
   ]
  },
  {
   "cell_type": "code",
   "execution_count": 17,
   "metadata": {},
   "outputs": [
    {
     "name": "stdout",
     "output_type": "stream",
     "text": [
      "Note: you may need to restart the kernel to use updated packages.\n"
     ]
    },
    {
     "name": "stderr",
     "output_type": "stream",
     "text": [
      "\n",
      "[notice] A new release of pip is available: 24.3.1 -> 25.0\n",
      "[notice] To update, run: python.exe -m pip install --upgrade pip\n"
     ]
    }
   ],
   "source": [
    "%pip install -q sentence-transformers"
   ]
  },
  {
   "cell_type": "code",
   "execution_count": 4,
   "metadata": {},
   "outputs": [],
   "source": [
    "from uuid import uuid4\n",
    "from elasticsearch import Elasticsearch\n",
    "from langchain_text_splitters import RecursiveCharacterTextSplitter\n",
    "from langchain_core.documents import Document\n",
    "from langchain_elasticsearch import ElasticsearchStore\n",
    "from langchain.embeddings import HuggingFaceEmbeddings\n",
    "from langchain_community.retrievers import ElasticSearchBM25Retriever"
   ]
  },
  {
   "cell_type": "markdown",
   "metadata": {},
   "source": [
    "**Загрузка базы знаний:**"
   ]
  },
  {
   "cell_type": "code",
   "execution_count": 2,
   "metadata": {},
   "outputs": [
    {
     "name": "stdout",
     "output_type": "stream",
     "text": [
      "Длина текста: 71987\n"
     ]
    }
   ],
   "source": [
    "with open(\n",
    "    file=r\"C:\\Users\\andre\\AdvancedRAG\\static\\texts\\ТИУ База знаний.txt\",\n",
    "    mode=\"r\",\n",
    "    encoding=\"utf-8\"\n",
    ") as file:\n",
    "    text = file.read()\n",
    "\n",
    "print(f\"Длина текста: {len(text)}\")"
   ]
  },
  {
   "cell_type": "markdown",
   "metadata": {},
   "source": [
    "**Разделение текста на чанки:**"
   ]
  },
  {
   "cell_type": "code",
   "execution_count": 3,
   "metadata": {},
   "outputs": [
    {
     "name": "stdout",
     "output_type": "stream",
     "text": [
      "Всего чанков: 173\n",
      "Первые 5 чанков:\n"
     ]
    },
    {
     "data": {
      "text/plain": [
       "[Document(page_content='Основные сведения:\\nПолное наименование образовательной организации\\nФедеральное государственное бюджетное образовательное учреждение высшего образования «Тюменский индустриальный университет»\\nНаименование организации на иностранном языке\\nFederal State Budget Educational Institution of Higher Education «Industrial University of Tyumen»/ IUT\\nСокращенное наименование образовательной организации (при наличии)\\nФГБОУ ВО «Тюменский индустриальный университет», ФГБОУ ВО «ТИУ», Тюменский индустриальный университет, ТИУ\\nДата создания образовательной организации: 08 января 1964 г.'),\n",
       " Document(page_content='Краткая информация об образовательной организации:\\nТюменский индустриальный университет – опорный вуз региона, лидер в подготовке инженерных кадров.\\nИнформация о месте нахождения образовательной организации:\\nЮридический адрес: 625000, Уральский федеральный округ, Тюменская область, г. Тюмень, ул. Володарского, 38\\nФактический адрес: 625000, Уральский федеральный округ, Тюменская область, г. Тюмень, ул. Володарского, 38\\nИнформация о режиме и графике работы образовательной организации\\nАдминистративно-управленческий, научный и инженерно-технический персонал:\\nпонедельник-четверг с 8.45 до 18.00'),\n",
       " Document(page_content='пятница с 8.45 до 16.45\\nУчебно-вспомогательный персонал:\\nпонедельник-пятница с 9.00 до 17.00\\nсуббота с 9.00 до 15.00\\nОбеденный перерыв  с 13.00 до 14.00\\nИнформация о контактных телефонах и адресах электронной почты образовательной организации\\nКонтактные телефоны: +7 (3452) 28-36-70\\nФакс: +7(3452) 28-36-60\\nАдреса электронной почты: general@tyuiu.ru'),\n",
       " Document(page_content='Спорт в ТИУ (Тюменский индустриальный университет)\\nСтуденческий спортивный клуб «Гвардия»\\nИстория создания (Как появился спортивный клуб):'),\n",
       " Document(page_content='В 2015 году на территории Тюменской области и тогда ещё в Тюменском нефтегазовом университете появился первый студенческий спортивный клуб «Нефть» в форме общественного объединения, а в 2017 году, но уже в Тюменском индустриальном университете, был создан спортивный клуб, как структурное подразделение, которое было нацелено на проведение спортивно-массовых мероприятий в стенах университета и работу, как с профессиональным, так и с любительским спортом. В этом же 2017 году был расформирован и создан новый студенческий спортивный клуб, в уже всем известном названии – Гвардия. \\nЧем занимаются:')]"
      ]
     },
     "execution_count": 3,
     "metadata": {},
     "output_type": "execute_result"
    }
   ],
   "source": [
    "'''text_splitter = RecursiveCharacterTextSplitter(\n",
    "    chunk_size=1000,\n",
    "    chunk_overlap=200,\n",
    "    length_function=len,\n",
    ")'''\n",
    "\n",
    "text_splitter = RecursiveCharacterTextSplitter(\n",
    "    chunk_size=600,\n",
    "    chunk_overlap=20,\n",
    "    length_function=len,\n",
    ")\n",
    "\n",
    "chunks = text_splitter.create_documents([text])\n",
    "\n",
    "N = 5\n",
    "\n",
    "print(f\"Всего чанков: {len(chunks)}\")\n",
    "print(f\"Первые {N} чанков:\")\n",
    "chunks[:N]"
   ]
  },
  {
   "cell_type": "markdown",
   "metadata": {},
   "source": [
    "**Загрузка Embedding мoдели:**"
   ]
  },
  {
   "cell_type": "code",
   "execution_count": 5,
   "metadata": {},
   "outputs": [
    {
     "name": "stderr",
     "output_type": "stream",
     "text": [
      "C:\\Users\\andre\\AppData\\Local\\Temp\\ipykernel_17332\\527724830.py:1: LangChainDeprecationWarning: The class `HuggingFaceEmbeddings` was deprecated in LangChain 0.2.2 and will be removed in 1.0. An updated version of the class exists in the langchain-huggingface package and should be used instead. To use it run `pip install -U langchain-huggingface` and import as `from langchain_huggingface import HuggingFaceEmbeddings`.\n",
      "  embeddings = HuggingFaceEmbeddings(\n"
     ]
    }
   ],
   "source": [
    "embeddings = HuggingFaceEmbeddings(\n",
    "    model_name=\"ai-forever/sbert_large_nlu_ru\",\n",
    "    model_kwargs={\"device\": \"cpu\"},\n",
    "    encode_kwargs={'normalize_embeddings': False},\n",
    ")"
   ]
  },
  {
   "cell_type": "markdown",
   "metadata": {},
   "source": [
    "**Подключение в базе данных (Elastic-search):**"
   ]
  },
  {
   "cell_type": "code",
   "execution_count": 6,
   "metadata": {},
   "outputs": [],
   "source": [
    "elastic_client = Elasticsearch(\n",
    "    hosts=\"http://localhost:9200\",\n",
    "    basic_auth=(\"elastic\", \"password\")\n",
    ")"
   ]
  },
  {
   "cell_type": "code",
   "execution_count": 6,
   "metadata": {},
   "outputs": [
    {
     "name": "stdout",
     "output_type": "stream",
     "text": [
      "Удаляю индекс: tyuiu_index\n",
      "Удаляю индекс: docs-tyuiu-index\n",
      "Все индексы удалены.\n"
     ]
    },
    {
     "name": "stderr",
     "output_type": "stream",
     "text": [
      "C:\\Users\\andre\\AppData\\Local\\Temp\\ipykernel_4052\\3432629537.py:6: DeprecationWarning: Passing transport options in the API method is deprecated. Use 'Elasticsearch.options()' instead.\n",
      "  elastic_client.indices.delete(index=index, ignore=[400, 404])\n"
     ]
    }
   ],
   "source": [
    "indices = elastic_client.cat.indices(h='index').split()\n",
    "\n",
    "# Удаление всех индексов\n",
    "for index in indices:\n",
    "    print(f\"Удаляю индекс: {index}\")\n",
    "    elastic_client.indices.delete(index=index, ignore=[400, 404])\n",
    "\n",
    "print(\"Все индексы удалены.\")"
   ]
  },
  {
   "cell_type": "code",
   "execution_count": 7,
   "metadata": {},
   "outputs": [],
   "source": [
    "elastic_store = ElasticsearchStore(\n",
    "    es_url=\"http://localhost:9200\",\n",
    "    index_name=\"tyuiu_index\",\n",
    "    embedding=embeddings,\n",
    "    es_user=\"elastic\",\n",
    "    es_password=\"password\",\n",
    ")"
   ]
  },
  {
   "cell_type": "markdown",
   "metadata": {},
   "source": [
    "**Загрузка документов:**"
   ]
  },
  {
   "cell_type": "code",
   "execution_count": 8,
   "metadata": {},
   "outputs": [],
   "source": [
    "import os\n",
    "\n",
    "\n",
    "def read_files_in_directory(directory_path: str) -> str:\n",
    "    files = []\n",
    "    if not os.path.exists(directory_path):\n",
    "        return\n",
    "    for filename in os.listdir(directory_path):\n",
    "        file_path = os.path.join(directory_path, filename)\n",
    "        files.append(file_path)\n",
    "    return files\n",
    "\n",
    "\n",
    "directory_path = r'C:\\Users\\andre\\AdvancedRAG\\static\\chanks'\n",
    "files = read_files_in_directory(directory_path)"
   ]
  },
  {
   "cell_type": "code",
   "execution_count": 9,
   "metadata": {},
   "outputs": [],
   "source": [
    "def get_file_name(file_path: str) -> str:\n",
    "    return file_path.split(\"\\\\\")[-1]"
   ]
  },
  {
   "cell_type": "code",
   "execution_count": 11,
   "metadata": {},
   "outputs": [
    {
     "data": {
      "text/plain": [
       "['f87c3107-b3e6-477c-9e0a-f7241df2e4e9',\n",
       " '251c5519-a6c7-4ad4-899b-6676c9854fee',\n",
       " '15fd9533-985c-4c47-8242-6a90f60765ab',\n",
       " 'adc751e1-ebc8-49f2-91c8-353734eb2319',\n",
       " '81e5df6e-2574-49be-9685-583aaac69269',\n",
       " 'd7d319dd-e6a3-422a-9ae1-6bb62c470e5f',\n",
       " '3c111dd9-688c-41d8-8130-77d6bf93cf59',\n",
       " '180d464d-3bbc-442c-9762-22f2e6f61e4c',\n",
       " '5762852b-9762-4952-a278-5d6750f50a74',\n",
       " 'e7338833-48fe-497c-81c2-0b91e0c61ee6',\n",
       " 'c6cba3a2-ceeb-46c5-b761-8f3a8e563568',\n",
       " '9a3ddc45-1953-4ccb-9547-2e0d5de47305',\n",
       " 'b962613d-663c-41f7-88eb-d4cf611fce39',\n",
       " '1f8c19d1-3cdd-442d-a886-f0bd87d7b804',\n",
       " 'e844680e-7e4e-4d63-9745-57552384fc6d',\n",
       " '798c0225-46be-411e-af84-f5a6f4328767',\n",
       " '8a7e3dc9-5020-4c2b-9787-8adb788eba4a',\n",
       " '5b9359ad-c1df-4bbb-95e3-d53d426dce18',\n",
       " '2c696857-ed02-4a5d-aa9d-0b36f47d335f',\n",
       " 'eb5e7cea-28a1-4b9c-825a-7509fde0b131',\n",
       " '0323cc27-62b8-4d6e-82b8-94476e565258',\n",
       " '7e0e9f74-3ca0-4588-b59a-c548f54e790d',\n",
       " 'ae972b7e-cb29-4da1-b0a7-c026968a632e',\n",
       " '875b62e3-7649-44cb-9fc6-7500911fd6c7',\n",
       " 'cda5f8b9-07aa-427e-8fac-a8d80490491b',\n",
       " 'b3e9bf32-eff8-4ed9-bc90-2f8493d721df',\n",
       " 'd307f547-c24f-4beb-bd63-afd3a00da91d',\n",
       " '1dac3942-d2d4-4fee-a43a-0387915287b5',\n",
       " '355d65b3-d7f5-4027-a0b8-8aacba920f64',\n",
       " 'a7ef33ce-bb34-4ae9-8cc4-1cb2b0871f32',\n",
       " '425b2631-5845-4a8e-b5b2-28e59d54ae0e',\n",
       " '31de3cc2-dcfc-41e1-a991-cd1217914009',\n",
       " '0b1760c2-5d15-4ef2-b0bc-342afd4a6f11',\n",
       " '99e155b9-d8f7-4de7-80e4-ac56bcee87f5',\n",
       " 'd89ff067-7bbb-46db-af84-228c7d64d615',\n",
       " '91d4dbcf-3ce3-4b08-8007-80ac61765d3b',\n",
       " '2990a887-9c13-4038-99f6-009f8d2d60ac',\n",
       " '55b072bc-03c2-4381-93fd-68d4a4cb83f5',\n",
       " '3f9a0ddc-0811-41a6-8108-207c76779c0b',\n",
       " '4bb4b56c-344e-4456-b7aa-cf19dd1cbdf5',\n",
       " '16f418ba-638d-4ba8-b7fa-df5fff8cfe48',\n",
       " '5b88b414-0a09-4f0c-b36d-7b6e4ed0f669',\n",
       " '645ca0c9-91f9-42c3-bc07-c8cfdc3e4bb7',\n",
       " '5d4d895c-005c-4ff0-9329-dd680858bc93',\n",
       " '5a7acfb4-1d2a-41b7-9405-6463593d8e61',\n",
       " '9a559fd2-e949-423b-87f0-6b2e8658445e',\n",
       " 'ca98cfb7-e9e2-4db4-bba6-44c3c2788950',\n",
       " 'e29f568d-599e-4d60-a7fa-ef5099b2096c',\n",
       " 'dbaaf2fb-1ac2-4478-80c1-c9bdbcaf36f6',\n",
       " '817b127a-c168-4b22-b049-f0fc8edfacc4',\n",
       " 'd1bd89b3-1bc7-431d-9119-669b3b0ea227',\n",
       " 'de91d6ef-fda0-4500-86a5-f46ec843f80d',\n",
       " '1cbfae92-b671-4f2d-aee2-460f9f5e0531',\n",
       " '2e8caf8d-0561-4d7e-a6e8-f0e6de222164',\n",
       " 'd6af8104-c44a-4a2c-beb8-d92a8f6ee0c4',\n",
       " 'b99803c1-318a-46c2-b429-ee7d73f538d5',\n",
       " '753eb4d7-358f-4c66-8b8d-6cee198dfd35',\n",
       " 'fc2563c2-d023-49b6-b64a-2f73d1ced48c',\n",
       " '1435bfc5-05d9-489a-9b35-ca44696eb022',\n",
       " '37492815-43a6-4de3-9016-ce9bca41d768',\n",
       " '4336a669-dbc1-4517-95fe-dc57afbc5195',\n",
       " '8bfbb5d8-296f-4c08-aa85-d2594eb93208',\n",
       " '4e2e2f1a-ec4a-4f76-b458-30a793b77922',\n",
       " 'a5e00cb9-8afa-4d1d-bd4f-d8a4a664da92',\n",
       " '6802115c-c3d4-407e-844c-65761089f424',\n",
       " '7c0f8372-086e-4741-98d3-8a148526d6f0',\n",
       " '5174d27d-17dc-4b82-acb6-e9f501e89777',\n",
       " '06843ece-f835-4895-a499-3a355f8a1c5e',\n",
       " '6e5edde5-195c-4bfe-b14a-e6ef6870200a',\n",
       " 'c6c2aaa5-fa49-49d4-b03c-1169610238db',\n",
       " '8bec5eb3-e075-46f1-b7d0-55c9b8f6f565',\n",
       " 'c4b36f09-aa97-4007-bbfc-e48f9b86d1ca',\n",
       " 'e75fef42-7cb4-4411-bcd9-a7334af9b7a7',\n",
       " '35f5faf1-8835-4e46-8e85-bf8291553414',\n",
       " '94e1a808-01dc-429b-b9a0-57e37b451d03',\n",
       " '98b94a4e-7974-498b-bb10-dd088bbe8b39',\n",
       " 'dea5740f-0ebe-4678-84fc-2a5bee6341f6',\n",
       " '12c5c66e-addf-48e0-8a52-2aa402c23c95',\n",
       " '2ea295cc-5b00-469d-8b76-9a7dd711febf',\n",
       " '2c3d3374-2c47-46bd-84ab-779ab63b59a3',\n",
       " 'e0e28eb2-0c47-4888-a2e0-4fcb607e7683',\n",
       " 'fafba36a-1616-41be-be80-88b1968c3a2f',\n",
       " '2442602b-65f1-432d-9362-3321b58d4f76',\n",
       " '519f9620-3874-4f38-a7fe-4f5d04cd58ff',\n",
       " 'ee77efc7-9943-4313-838e-03a4342af9b3',\n",
       " 'ab79a1ac-e9b5-433e-a1ba-a8e3a8dc03bf',\n",
       " '7dffe407-2e1b-4ba6-ab44-aa281e3b96fc',\n",
       " '6a02dcd4-5be0-4e2e-b374-8e9d23386b25',\n",
       " '82d8f260-7df3-4a92-9575-221e78d82d55',\n",
       " '96fa2d1b-9fc1-43dc-b0d7-83eb04842cfb',\n",
       " 'f431ee66-9ce6-4deb-b8ac-47a9d635bfc1',\n",
       " 'bb28321d-42bd-486b-83ce-d4cce4a0c843',\n",
       " '98e85772-5075-4dd5-aa71-7f3ceeeb6341',\n",
       " '6babc59c-f5dd-4254-add9-faaf4ba0d724',\n",
       " '78584d4f-5f4d-442d-adda-a2aa2796edaf',\n",
       " '5be6d56b-167b-4d1c-9f6b-3e9805183288',\n",
       " '5620663c-0708-40af-a710-8d25193a17fa',\n",
       " '5d3b199f-c93a-490b-834e-b638d168bd2b',\n",
       " 'b0f9923a-7c04-486d-a651-70ca1dc3be37',\n",
       " 'dedd8422-4c87-4f40-aeb1-58747d0fc9af',\n",
       " '3a9a1ebd-73fc-429f-89e9-ab0b36f3d8b5',\n",
       " 'a8d0c9cf-ff56-41f0-9b56-10ae9209ce3e',\n",
       " '26581d88-b06a-4d61-b27c-98b8d85e1663',\n",
       " '57699abb-f090-43fb-84a2-8dbad229ce39',\n",
       " 'ec3d10f9-c552-4470-b70b-1b7b1e1aaaa3',\n",
       " 'd368fac5-73e5-484f-afa0-3258b0deaa21',\n",
       " 'c8f1de02-d058-42ac-aeb5-689326c04cb7',\n",
       " 'cde96a94-ca28-4f26-899a-8f569ae63058',\n",
       " 'b4770d95-a865-4fd5-bb1f-5ea9393ef9fe',\n",
       " '49167b17-761f-4641-a49e-e0f50aa8c75c',\n",
       " 'b718032e-dbdb-48cf-9ec6-099e03b8068e',\n",
       " 'c8b96003-3ce3-4f3f-b8fb-ba820a6aeaf5',\n",
       " '2562e578-2f0f-4e89-8d0b-7c83a36a459f',\n",
       " 'de150850-3c95-46a7-9741-ceecfa651dbe',\n",
       " 'c820d63a-69c6-4e19-9b00-f99b4c7214d5',\n",
       " 'ec54f098-1ccf-4d24-b8b3-7699550219d8',\n",
       " '07d03a7a-41c3-4620-b83a-5bbe9aaa94af',\n",
       " 'a53e052e-b9e1-4708-9560-b47bfb94e18b',\n",
       " '4ea66c32-0471-487d-8e56-3e3db3754ba6',\n",
       " 'a86730fc-a5af-45eb-903c-0b129c6a28ff',\n",
       " '9a746c5f-a873-43b6-95b7-ab195b25678e',\n",
       " '1e7ea835-80e0-482e-97a0-4cdb900aaa3e',\n",
       " 'd61a2b0a-6f00-4e19-b9d1-c8196afe419f',\n",
       " '1ef5284c-9687-4b98-9348-97848d52b878',\n",
       " 'f54d6276-337f-4ec2-a609-6cd8681aa525',\n",
       " 'fe7459dc-96ad-405a-b29b-74cd2142f0f1',\n",
       " 'ec1fdfc0-315a-4a7c-9bfd-47359e6d5cb8',\n",
       " '6b339a17-136a-4b89-a479-4f78ff02c067',\n",
       " 'f2a74c1e-f77c-4968-ae7a-a8316e745cd2',\n",
       " 'f4be0c63-a80e-4f86-a7dc-22e8838975ec',\n",
       " '23a4883a-454a-4086-9f30-d2180b390b0a',\n",
       " '3c8d7160-59c6-40b3-bd1b-4e73c821948c',\n",
       " '6e5bf28b-5fb5-40c0-89be-1bf84d7344a2',\n",
       " '05e1465a-ce03-417a-83ea-3b09298e1924',\n",
       " '07d48576-1167-45f8-acb9-700c884af91d',\n",
       " 'ad3bf01e-593b-4c4f-9419-927313619b96',\n",
       " '84a97d81-b787-4d6f-81c1-ce3c30e4c0f1',\n",
       " '9feddece-42ce-4a1a-a5c7-d45c92702033',\n",
       " '5f19dc64-8675-4293-8ded-efd455735f0b',\n",
       " '38bdf0c3-587a-4151-aec4-7134b52cb2f0',\n",
       " 'dff8628f-b580-47ee-9f5f-5b3d20481cdf',\n",
       " '89b2b502-f248-4021-a5d7-e6fd7705c522',\n",
       " 'f762cb4a-5e4d-4b09-b7bd-6ca66f7337e3',\n",
       " '12ec3f54-9a9d-476b-af65-311bad27f901',\n",
       " '469d300c-2d7f-456c-bcdd-2c9e944784f2',\n",
       " '2a0ebf4a-8842-4b4a-a243-d171c7bb7ddf',\n",
       " '6f85695c-1e03-4ef4-812e-230a5ab31e67',\n",
       " 'f7564c93-81d7-4130-9c7a-58154f3a0693',\n",
       " '95eee76f-ca43-43ce-bde9-8b43031a5b42',\n",
       " '36479e3f-8ea3-4de5-b6c7-245506752676',\n",
       " '5ba52d6b-0a6b-465d-8125-341b578b0e00',\n",
       " 'df700d12-bfcc-4f66-aaa8-6937057a0817',\n",
       " '6968c375-1975-49df-ad93-e214fb661ed7',\n",
       " '129d3eb4-9b26-4d8e-a7d5-202571327eba',\n",
       " 'f1a7f6a8-b0b7-44b8-b263-a1b40f790583',\n",
       " '2d671a0a-18f9-4fd6-bb45-f18676398444',\n",
       " '2689bacf-092f-4a1b-9a28-f17beab091cb',\n",
       " '210dd1f9-2289-4770-8619-bb373498705d',\n",
       " '6fffbe56-f719-43a9-b817-e0a478520f59',\n",
       " '002910f5-ce27-486f-83f9-9c74837ccc31',\n",
       " 'cba38216-398d-4ffb-ba91-6e7721141ec4',\n",
       " '8dd3e5b5-0ad8-44cc-a76c-5143e2fdedaf',\n",
       " '8175fb6a-e803-497b-8b17-1312c61fc127',\n",
       " '72ce09e3-7e33-4af0-a4e6-55afe7b30182',\n",
       " '286e34a1-4e4e-42d1-80b2-fab4abf754cd',\n",
       " 'bdb9e842-089c-4423-9a72-8f0197d72429',\n",
       " '0680eddb-c278-4921-a0fd-58f2a1b74ac6',\n",
       " '90e32ba3-2312-4892-9830-11578e477e02',\n",
       " 'e56cdbf9-5274-412d-a0c5-742214a9bbcb',\n",
       " 'c045ed55-c6af-447f-a543-067a3f9345e9',\n",
       " '6d65ed2d-9127-42f0-89a9-8a6f995243cc',\n",
       " '7eb26378-004e-41ec-bd72-5114c31eb63a',\n",
       " 'a36ee1fb-cdf9-42e3-8fb3-aa39c3351945']"
      ]
     },
     "execution_count": 11,
     "metadata": {},
     "output_type": "execute_result"
    }
   ],
   "source": [
    "elastic_store.add_documents(documents=chunks)"
   ]
  },
  {
   "cell_type": "code",
   "execution_count": 8,
   "metadata": {},
   "outputs": [
    {
     "data": {
      "text/plain": [
       "[Document(page_content='В области строительства и транспорта по специальностям «Автомобильные дороги», «Объекты транспортной инфраструктуры», «Производство и применение строительных материалов» и «Организация инвестиционно-строительной деятельности» проходной балл составляет 43 (платно) и 51 (бюджет).'),\n",
       " Document(page_content='Курсы ориентированы на подготовку учащихся 10-11 классов к поступлению в ВУЗы по направлениям: 07.03.01 Архитектура, 07.03.03 Дизайн архитектурной среды, 54.03.01 Дизайн.\\nПреимущества обучения в Центре архитектурной подготовки:\\n- высококвалифицированный педагогический состав, в том числе члены Союза архитекторов, дизайнеров и художников России;\\n- программа обучения базируется на специфике архитектурного и дизайнерского творчества;\\n- благодаря полученным навыкам выпускники центра поступают в профильные ВУЗы страны и начинают свою деятельность в области архитектуры и дизайна;'),\n",
       " Document(page_content='Для направлений, связанных с экономикой и управлением, например, «Логистика и управление цепями поставок», проходные баллы составляют 45 (платная форма обучения) и 81 (бюджетная форма обучения), а для «Экономического управления предприятиями топливно-энергетического комплекса» — 45 (платная форма обучения) и 69 (бюджетная форма обучения).\\n\\nТворческие направления, такие как «Дизайн интерьера» и «Дизайн городской среды», имеют проходной балл 51 (платный) и 75 (бюджетный).'),\n",
       " Document(page_content='Школа инженерного резерва реализует множество дополнительных образовательных программ, таких как проект Код будущего, всероссийский конкурс Инженерный резерв России фестиваль по искусственному интеллекту и алгоритмическому программированию RuCode и другие. Это позволяет нам совершенствоваться и оставаться впереди инноваций, чтобы обеспечить качественное образование и подготовку будущих инженеров.\\nКраткая информация о Инженерной школе:\\nС КАКОГО ВОЗРАСТА МОЖНО ЗАПИСАТЬ РЕБЕНКА НА ОБУЧЕНИЕ В ШИР (Школа инженерного резерва)? Занятия проводятся для детей с 1 по 11 класс')]"
      ]
     },
     "execution_count": 8,
     "metadata": {},
     "output_type": "execute_result"
    }
   ],
   "source": [
    "docs = elastic_store.similarity_search(\"какой минимальный проходной балл на направление архитектура\")\n",
    "docs"
   ]
  },
  {
   "cell_type": "code",
   "execution_count": 9,
   "metadata": {},
   "outputs": [],
   "source": [
    "bm25_retriever = ElasticSearchBM25Retriever(\n",
    "    client=elastic_client, \n",
    "    index_name=\"docs-tyuiu-index\",\n",
    "    search_kwargs={\"k\": 2}\n",
    ")"
   ]
  },
  {
   "cell_type": "code",
   "execution_count": 14,
   "metadata": {},
   "outputs": [
    {
     "data": {
      "text/plain": [
       "['d27ad876-685b-496b-8d05-8861f4858333',\n",
       " 'ac5bc96e-c606-4f6d-a3e7-7b9cab433f8b',\n",
       " '3acb6fd6-5574-4134-a573-9c24e1946a68',\n",
       " '67774664-cbb7-4cb6-9603-07bb1b5985a0',\n",
       " '5f9719a1-2413-40a7-8c26-0305dae56aa4',\n",
       " 'dc0feb4a-ff64-46ae-ada4-7ebf932e6c0d',\n",
       " '410c2028-6d65-48c9-91ed-c03a486d5e3c',\n",
       " '62b5a305-0ad3-4354-afaf-808a47ad3e07',\n",
       " '84008b2e-057b-4328-a793-921dcf2b4356',\n",
       " '545439a6-b518-47bf-8b5e-b15c0705808a',\n",
       " '022a2dc7-a011-410f-b45e-6dd79dfb1ae7',\n",
       " '0a46d3dc-f4f0-41c6-a23e-50de897878f3',\n",
       " '758d21e4-6c2a-4375-943e-ee8013b66ee3',\n",
       " '15c98d70-b459-417a-8b1a-de9b17b4fe10',\n",
       " 'f06c2692-6c68-400e-90f5-05ad011b22c2',\n",
       " '9a9763e3-06de-4c71-a80b-dcfc7fdb7439',\n",
       " '7a207b26-b619-4f9e-be3f-bcb6b42734aa',\n",
       " '0ff358cd-beb2-491c-a842-ff03cfe0dd1f',\n",
       " 'cbe0884f-abb2-4189-8663-d5f9f51b0581',\n",
       " '6731a5c0-66ae-4b67-bbfb-7f2af3006d29',\n",
       " '3f8dba6d-4aae-4415-9ad0-f81f5b5aaa67',\n",
       " 'd7fffac2-6a14-447d-aaa5-cf417de94360',\n",
       " 'ed9ca39f-0670-41cf-bd69-9508efeb458f',\n",
       " '04a8cec7-7e12-4e05-9168-769744eb25e5',\n",
       " 'f49456f2-d112-40db-952d-704cf2500431',\n",
       " '8984c6ba-85e8-4456-8c9f-6e620b82dca0',\n",
       " 'cc530ac0-bee9-47ba-ba76-291c4bc89c99',\n",
       " '8a747974-ad22-44a2-834a-aa0770203892',\n",
       " '74b7e622-9791-4f48-865f-1fd96c30a9c1',\n",
       " 'c1d00c66-ceca-4093-9fed-e972f0b2a9e0',\n",
       " 'e300aedb-16d1-4c93-9745-62f5144a6c38',\n",
       " 'a0feaf6a-0860-4186-89ea-f770049b395a',\n",
       " '1f59384f-8dc6-44a2-bd53-c2ba48dd8afe',\n",
       " '1432c96e-fbfb-4ed1-8e43-93a464149fa6',\n",
       " '8298d08f-673d-4d66-bca0-b38fe47d2697',\n",
       " '420247eb-ffef-4773-92d6-a735d28d6f72',\n",
       " 'dbaac642-9d6f-49ac-9974-905960a646da',\n",
       " '08e993d9-a3f5-4e07-aa33-9e44863262de',\n",
       " '30e1fe34-09b3-4030-addf-3e16d5795dc3',\n",
       " '5fe66ebc-c9ff-4ee1-a1fa-da4c7f0c0ea7',\n",
       " '7ef4fbf9-acb7-41f8-bc07-afdd51ad3d7d',\n",
       " '95145680-4e65-4e9b-8308-1270c89f9ea3',\n",
       " 'd45a8d16-d4f0-4517-99e2-7b6c532e167c',\n",
       " 'e4a46684-412a-4599-b4a0-658607dede6e',\n",
       " 'f7f8c3d5-43fa-443d-bffc-2903f3d7965e',\n",
       " 'a9d9f262-9e08-4ffc-9492-10f5d6817d3d',\n",
       " '157a4ce3-70f8-4df2-b9ff-a3760e47acec',\n",
       " 'ea702e29-4323-4923-8952-7d18d480d719',\n",
       " '5e18fedb-40e0-40e3-aab8-f69e1ba2fdc7',\n",
       " 'be60a436-0c7a-4bed-b339-02aa085bb08b',\n",
       " '22658558-79bf-4229-86ca-596f225a9d1a',\n",
       " 'f57808a1-4e4d-442c-bcb7-8658ecbf4085',\n",
       " '6f800f53-5ee9-45d9-b618-892833d47c99',\n",
       " '76b7cb1c-1833-4d4b-b34a-f16f25aca2b7',\n",
       " '22e021f0-1acc-4e13-87fd-f03fcfacf368',\n",
       " '3dedd82b-0e5e-4768-9aa8-b3cc0cae76dd',\n",
       " 'bf84c4a1-7fe6-4431-8f70-4cbd9157ddc8',\n",
       " '31e1a6be-77ba-4409-992a-3849b8f04243',\n",
       " 'aefc4341-d637-4b5e-ad5c-3fa883d6b722',\n",
       " 'ecf44733-f574-429e-aac5-5a1b58568906',\n",
       " '86db2576-2f79-43e2-8142-395a53f54a2a',\n",
       " 'd7782e7d-909d-4c78-a7a5-a37ab1c58166',\n",
       " 'dfd28cc7-fdb4-44cd-bf6b-efe8004443e6',\n",
       " 'e63f3a33-acc0-4d8d-bccc-424498dbdb76',\n",
       " 'abddad63-2962-42f5-80a1-3b1f59ec5e13',\n",
       " '72a83b25-e7bf-40c9-86a8-b66b2863fce3',\n",
       " 'de98daa5-52f8-4cca-b2b6-d6ada5bd4233',\n",
       " '1ec20ee1-33cd-4765-aff7-1b85a3a2f0f4',\n",
       " '953ab102-b21f-4918-acf2-d6ffff528bb2',\n",
       " '44dd677f-febb-4038-a031-31d8e7939ecf',\n",
       " '4d350e70-ddd3-4a0d-87b5-9ccc253ebc80',\n",
       " '21e62f59-d5c3-45cd-bef0-5d49124c7631',\n",
       " 'd6b4885b-8528-4fbf-a55c-f02a0a758a1a',\n",
       " 'c0d04f96-ddca-4aa5-a27c-1e2a244b8be2',\n",
       " 'a18d1294-3376-4777-b1c9-a8c0c8743186',\n",
       " '13b3b2fa-9839-4080-9c6e-c64a96337bc1',\n",
       " '46998658-b8a4-4a4c-ad1e-f92e5dcef5e3',\n",
       " '4e3a229b-d384-4b94-a74a-9652fca9c597',\n",
       " '01dfd2f8-2df5-4198-acbf-62093575693a',\n",
       " '532abfdb-0e36-491d-aa1f-c7904d610e53',\n",
       " 'b0c3aad5-d533-41e9-99cd-f9751aff9291',\n",
       " '214fd391-c4fe-44d1-86e3-4b5572140ac1',\n",
       " 'c53c9439-3cbb-4559-8913-e12b8a2c62eb',\n",
       " '0d8d0f60-553f-4f7c-91a5-66589b26e4f0',\n",
       " 'cb8bfc51-a599-4ad3-befa-e1087379cd60',\n",
       " '8860d1bc-fa80-435d-8075-f3bf7b4a5b83',\n",
       " 'ad0a1d74-5727-465d-a43d-792e1faabec3',\n",
       " 'a81eaed7-db87-4cda-bb5c-a7634175a345',\n",
       " '0d8e7118-793b-4908-b8f3-a31ce1ea148c',\n",
       " 'b13d6407-56aa-40ca-b676-f3c542dcbc44',\n",
       " '460ecab9-0d75-4182-a636-a55b49048f69',\n",
       " '57e539c2-6dbe-40de-8eac-188d8c3cf800',\n",
       " '17b9c1c0-84a5-44f6-9ceb-25ad48cc5deb',\n",
       " '4871d7f7-1360-4fde-9883-f3e545a057a2',\n",
       " '28a6f85a-6073-4afd-99ed-addd0a5b07d7',\n",
       " 'fdad7996-58bb-4298-9910-3118e8eb1ce9',\n",
       " '1d62c323-e201-4035-96c8-cc6cbf245e94',\n",
       " '2e0a90d4-c94a-4911-84b1-685e8a7fcbd0',\n",
       " '1af7090b-ccba-4eaf-9e67-165e4f4ed327',\n",
       " 'c37e775c-efdd-4a04-895b-fcef9943dc99',\n",
       " 'bd5308be-1253-4b89-88c7-1b7273bb798b',\n",
       " '8f2a38e9-d62e-4807-860b-c52ade8518fe',\n",
       " 'ffbff8c0-f1e9-4e0b-a98f-5281c1343957',\n",
       " '6c3e6e73-c5da-4b3a-af88-413b50187717',\n",
       " '0054fe17-b410-47c3-a4cb-1f216d53acef',\n",
       " 'bad5496f-3d6f-40c6-b65f-f0ef056abff3',\n",
       " '28472644-2ffb-4baf-b86e-a78db8713179',\n",
       " '925b996d-c1c4-4528-b25d-2ec8a1bb50d3',\n",
       " '02590d34-cdc1-44d1-9bff-c7a668c7cef6',\n",
       " 'cfafc621-b9fd-4f17-8983-0be8ab0d860b',\n",
       " 'b6638852-c0ca-45e1-9955-393140c90ce0',\n",
       " '270eff82-af4c-4269-ba6d-87aea0f5a6a9',\n",
       " '1404d24d-af88-498b-aba8-845c58869fb7',\n",
       " '3765e799-1a40-4b3d-be9e-60fa263f231b',\n",
       " '735480fb-dc5e-4746-acc3-a4c2a28c9985',\n",
       " '8a99da43-1bf5-42c5-b484-512a7407dc4d',\n",
       " '436e9217-966d-4235-8b89-d34e6f4c4fb9',\n",
       " '40f898d7-a246-43d2-a0f1-4cb3accf0cf9',\n",
       " '6bca28b2-a009-4f2e-91f7-41eb15d8d65e',\n",
       " '5b572c6b-37c4-4c44-81d9-14132f2f0da4',\n",
       " '513a325c-3769-4f58-a137-8fe960058207',\n",
       " 'c03ee76b-c26a-42db-ab20-1fab17a721dc',\n",
       " 'e95da102-6675-4299-b5bd-808c3e5da951',\n",
       " '741a3115-e815-4bdc-bee5-b1c2ae3dd05c',\n",
       " '87cb7570-941c-430e-b484-99105db586e6',\n",
       " '49d4dbad-f15b-44a9-b5c7-bef6e63811ca',\n",
       " 'fbd6b0ba-fefd-4186-a480-a9039b37aa40',\n",
       " 'a1cbf008-951d-4e1f-ac72-6a37165e87ae',\n",
       " '888de1cb-dcd3-409c-988a-6f6b0390c533',\n",
       " '1452dfac-e710-42c6-bfe5-edad9ec610cf',\n",
       " '4140f92b-e27c-4af6-adc6-c3b09ba36fad',\n",
       " '552f1203-0055-43f4-9e26-e245cbcb5c3e',\n",
       " '5b98b309-a682-4e23-845c-107eb0c8bc0c',\n",
       " '9d14076a-ea24-4cd8-9876-1a196fb231cb',\n",
       " '4af63dfe-566c-4d2d-b258-a082caa4eaaa',\n",
       " '00ffd1e8-88f9-41d8-b076-503e83dc019f',\n",
       " '01733c3d-4fe0-44ce-87c5-20914cf46f12',\n",
       " '6ff34858-dc6f-492b-af27-b4633172add3',\n",
       " '37d9326e-94cf-4d13-83e1-7580b0a4626c',\n",
       " 'c99b9b3d-8735-45b9-84f1-d68a0b873732',\n",
       " '8aa279db-9db5-4e8d-bc51-d7018b372678',\n",
       " 'e12554b1-b0d1-4bf9-be89-bcd6e8923209',\n",
       " '1d25d6ca-64ed-443a-b00f-a86c996f9e62',\n",
       " '61e43be5-f024-4df5-a95a-53141d80f7ef',\n",
       " 'f5b6bcf8-4131-41be-8af9-54081d47d07b',\n",
       " '52460cd1-3bb1-4fc1-b451-4fa6e110fa9a',\n",
       " '1671b3e1-48c6-4c85-8248-e3bc0bfde521',\n",
       " '030fbe48-1f95-4752-8ebd-44ea137c4da7',\n",
       " '655d8422-2226-4d61-8eb5-56ad12bd8218',\n",
       " 'be4b1817-3c80-483c-90b0-d4e9fad3a638',\n",
       " '0094df3b-ec5a-4143-93e4-2b8ac992a2d0',\n",
       " '9140736a-07af-4836-bf66-1e433092f4af',\n",
       " '6f225a37-e6b9-4ca5-8d77-6669cee25cb4',\n",
       " 'f4f15c53-65fc-49df-83a2-471ff894a722',\n",
       " '6349fd0b-7efa-4d6b-8b81-e7e59b1e930b',\n",
       " '371bf559-18a8-4095-a405-357e82b3ddf3',\n",
       " '68d47b62-c742-4b4a-9958-a408ee65f856',\n",
       " '1aebbd19-18ea-4e25-902c-fa11e174f81b',\n",
       " '13702b19-612f-41f0-b5e3-5f3e5b9c4d6c',\n",
       " '04d60f29-eca3-43d1-9c56-8b2619498cdf',\n",
       " '1b3512b3-7b9b-4738-b453-df5a3a45ba24',\n",
       " '2da77ab6-1875-4bb4-b5d9-432c01abe97d',\n",
       " 'c9f1fdd8-3983-48ef-823c-f9392d1a9565',\n",
       " '2d973832-a53f-4793-8b2b-695485f2a3de',\n",
       " '5d59a795-1b41-4ff0-a3cb-0e9268c148af',\n",
       " '95923fa8-f3c5-42e7-883b-407adc7e44bc',\n",
       " '88cdab17-24d5-4779-8bb7-1ac23f6a6f32',\n",
       " '5338d270-01c2-4aac-9e76-a7dc1adb5871',\n",
       " '29c8a6e1-528e-4db9-9698-9532587aac7e',\n",
       " 'da898897-6f7c-4b0f-9e17-83634fbb0a31',\n",
       " 'a9e60ffe-7739-4a6d-b7e6-f9d688eb3163',\n",
       " '8eb6f850-7a92-4368-8f24-3aa40951e512',\n",
       " '7c608d93-ea68-44d1-a47d-d14e3c9d7124']"
      ]
     },
     "execution_count": 14,
     "metadata": {},
     "output_type": "execute_result"
    }
   ],
   "source": [
    "bm25_retriever.add_texts([document.page_content for document in chunks])"
   ]
  },
  {
   "cell_type": "code",
   "execution_count": 10,
   "metadata": {},
   "outputs": [],
   "source": [
    "vector_store_retriever = elastic_store.as_retriever(search_kwargs={\"k\": 2})"
   ]
  },
  {
   "cell_type": "code",
   "execution_count": 11,
   "metadata": {},
   "outputs": [],
   "source": [
    "from langchain.retrievers import EnsembleRetriever"
   ]
  },
  {
   "cell_type": "code",
   "execution_count": 29,
   "metadata": {},
   "outputs": [],
   "source": [
    "ensemble_retriever = EnsembleRetriever(\n",
    "    retrievers=[vector_store_retriever, bm25_retriever],\n",
    "    weights=[0.6, 0.4],\n",
    ")"
   ]
  },
  {
   "cell_type": "code",
   "execution_count": 1,
   "metadata": {},
   "outputs": [
    {
     "ename": "NameError",
     "evalue": "name 'ensemble_retriever' is not defined",
     "output_type": "error",
     "traceback": [
      "\u001b[1;31m---------------------------------------------------------------------------\u001b[0m",
      "\u001b[1;31mNameError\u001b[0m                                 Traceback (most recent call last)",
      "Cell \u001b[1;32mIn[1], line 2\u001b[0m\n\u001b[0;32m      1\u001b[0m config \u001b[38;5;241m=\u001b[39m {\u001b[38;5;124m\"\u001b[39m\u001b[38;5;124mconfigurable\u001b[39m\u001b[38;5;124m\"\u001b[39m: {\u001b[38;5;124m\"\u001b[39m\u001b[38;5;124msearch_kwargs_elasticsearch_store\u001b[39m\u001b[38;5;124m\"\u001b[39m: {\u001b[38;5;124m\"\u001b[39m\u001b[38;5;124mk\u001b[39m\u001b[38;5;124m\"\u001b[39m: \u001b[38;5;241m1\u001b[39m}}}\n\u001b[1;32m----> 2\u001b[0m docs \u001b[38;5;241m=\u001b[39m \u001b[43mensemble_retriever\u001b[49m\u001b[38;5;241m.\u001b[39minvoke(\u001b[38;5;124m\"\u001b[39m\u001b[38;5;124mКакой проходной балл на архитектуру\u001b[39m\u001b[38;5;124m\"\u001b[39m, config\u001b[38;5;241m=\u001b[39mconfig)\n\u001b[0;32m      3\u001b[0m \u001b[38;5;28mprint\u001b[39m(\u001b[38;5;124mf\u001b[39m\u001b[38;5;124m\"\u001b[39m\u001b[38;5;124mВсего документов найдено: \u001b[39m\u001b[38;5;132;01m{\u001b[39;00m\u001b[38;5;28mlen\u001b[39m(docs)\u001b[38;5;132;01m}\u001b[39;00m\u001b[38;5;124m\"\u001b[39m)\n\u001b[0;32m      4\u001b[0m \u001b[38;5;28;01mfor\u001b[39;00m doc \u001b[38;5;129;01min\u001b[39;00m docs:\n",
      "\u001b[1;31mNameError\u001b[0m: name 'ensemble_retriever' is not defined"
     ]
    }
   ],
   "source": [
    "config = {\"configurable\": {\"search_kwargs_elasticsearch_store\": {\"k\": 1}}}\n",
    "docs = ensemble_retriever.invoke(\"Какой проходной балл на архитектуру\", config=config)\n",
    "print(f\"Всего документов найдено: {len(docs)}\")\n",
    "for doc in docs:\n",
    "    print(doc)"
   ]
  }
 ],
 "metadata": {
  "kernelspec": {
   "display_name": "Python 3",
   "language": "python",
   "name": "python3"
  },
  "language_info": {
   "codemirror_mode": {
    "name": "ipython",
    "version": 3
   },
   "file_extension": ".py",
   "mimetype": "text/x-python",
   "name": "python",
   "nbconvert_exporter": "python",
   "pygments_lexer": "ipython3",
   "version": "3.11.3"
  }
 },
 "nbformat": 4,
 "nbformat_minor": 2
}
