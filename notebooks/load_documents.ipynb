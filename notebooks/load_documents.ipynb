{
 "cells": [
  {
   "cell_type": "code",
   "execution_count": 16,
   "metadata": {},
   "outputs": [
    {
     "name": "stdout",
     "output_type": "stream",
     "text": [
      "Note: you may need to restart the kernel to use updated packages.\n"
     ]
    },
    {
     "name": "stderr",
     "output_type": "stream",
     "text": [
      "\n",
      "[notice] A new release of pip is available: 24.3.1 -> 25.0\n",
      "[notice] To update, run: python.exe -m pip install --upgrade pip\n"
     ]
    }
   ],
   "source": [
    "%pip install -q langchain-elasticsearch"
   ]
  },
  {
   "cell_type": "code",
   "execution_count": 17,
   "metadata": {},
   "outputs": [
    {
     "name": "stdout",
     "output_type": "stream",
     "text": [
      "Note: you may need to restart the kernel to use updated packages.\n"
     ]
    },
    {
     "name": "stderr",
     "output_type": "stream",
     "text": [
      "\n",
      "[notice] A new release of pip is available: 24.3.1 -> 25.0\n",
      "[notice] To update, run: python.exe -m pip install --upgrade pip\n"
     ]
    }
   ],
   "source": [
    "%pip install -q sentence-transformers"
   ]
  },
  {
   "cell_type": "code",
   "execution_count": 1,
   "metadata": {},
   "outputs": [],
   "source": [
    "from uuid import uuid4\n",
    "from elasticsearch import Elasticsearch\n",
    "from langchain_text_splitters import RecursiveCharacterTextSplitter\n",
    "from langchain_core.documents import Document\n",
    "from langchain_elasticsearch import ElasticsearchStore\n",
    "from langchain.embeddings import HuggingFaceEmbeddings\n",
    "from langchain_community.retrievers import ElasticSearchBM25Retriever"
   ]
  },
  {
   "cell_type": "markdown",
   "metadata": {},
   "source": [
    "**Загрузка базы знаний:**"
   ]
  },
  {
   "cell_type": "code",
   "execution_count": 2,
   "metadata": {},
   "outputs": [
    {
     "name": "stdout",
     "output_type": "stream",
     "text": [
      "Длина текста: 71987\n"
     ]
    }
   ],
   "source": [
    "with open(\n",
    "    file=r\"C:\\Users\\andre\\AdvancedRAG\\static\\texts\\ТИУ База знаний.txt\",\n",
    "    mode=\"r\",\n",
    "    encoding=\"utf-8\"\n",
    ") as file:\n",
    "    text = file.read()\n",
    "\n",
    "print(f\"Длина текста: {len(text)}\")"
   ]
  },
  {
   "cell_type": "markdown",
   "metadata": {},
   "source": [
    "**Разделение текста на чанки:**"
   ]
  },
  {
   "cell_type": "code",
   "execution_count": 3,
   "metadata": {},
   "outputs": [
    {
     "name": "stdout",
     "output_type": "stream",
     "text": [
      "Всего чанков: 173\n",
      "Первые 5 чанков:\n"
     ]
    },
    {
     "data": {
      "text/plain": [
       "[Document(page_content='Основные сведения:\\nПолное наименование образовательной организации\\nФедеральное государственное бюджетное образовательное учреждение высшего образования «Тюменский индустриальный университет»\\nНаименование организации на иностранном языке\\nFederal State Budget Educational Institution of Higher Education «Industrial University of Tyumen»/ IUT\\nСокращенное наименование образовательной организации (при наличии)\\nФГБОУ ВО «Тюменский индустриальный университет», ФГБОУ ВО «ТИУ», Тюменский индустриальный университет, ТИУ\\nДата создания образовательной организации: 08 января 1964 г.'),\n",
       " Document(page_content='Краткая информация об образовательной организации:\\nТюменский индустриальный университет – опорный вуз региона, лидер в подготовке инженерных кадров.\\nИнформация о месте нахождения образовательной организации:\\nЮридический адрес: 625000, Уральский федеральный округ, Тюменская область, г. Тюмень, ул. Володарского, 38\\nФактический адрес: 625000, Уральский федеральный округ, Тюменская область, г. Тюмень, ул. Володарского, 38\\nИнформация о режиме и графике работы образовательной организации\\nАдминистративно-управленческий, научный и инженерно-технический персонал:\\nпонедельник-четверг с 8.45 до 18.00'),\n",
       " Document(page_content='пятница с 8.45 до 16.45\\nУчебно-вспомогательный персонал:\\nпонедельник-пятница с 9.00 до 17.00\\nсуббота с 9.00 до 15.00\\nОбеденный перерыв  с 13.00 до 14.00\\nИнформация о контактных телефонах и адресах электронной почты образовательной организации\\nКонтактные телефоны: +7 (3452) 28-36-70\\nФакс: +7(3452) 28-36-60\\nАдреса электронной почты: general@tyuiu.ru'),\n",
       " Document(page_content='Спорт в ТИУ (Тюменский индустриальный университет)\\nСтуденческий спортивный клуб «Гвардия»\\nИстория создания (Как появился спортивный клуб):'),\n",
       " Document(page_content='В 2015 году на территории Тюменской области и тогда ещё в Тюменском нефтегазовом университете появился первый студенческий спортивный клуб «Нефть» в форме общественного объединения, а в 2017 году, но уже в Тюменском индустриальном университете, был создан спортивный клуб, как структурное подразделение, которое было нацелено на проведение спортивно-массовых мероприятий в стенах университета и работу, как с профессиональным, так и с любительским спортом. В этом же 2017 году был расформирован и создан новый студенческий спортивный клуб, в уже всем известном названии – Гвардия. \\nЧем занимаются:')]"
      ]
     },
     "execution_count": 3,
     "metadata": {},
     "output_type": "execute_result"
    }
   ],
   "source": [
    "'''text_splitter = RecursiveCharacterTextSplitter(\n",
    "    chunk_size=1000,\n",
    "    chunk_overlap=200,\n",
    "    length_function=len,\n",
    ")'''\n",
    "\n",
    "text_splitter = RecursiveCharacterTextSplitter(\n",
    "    chunk_size=600,\n",
    "    chunk_overlap=20,\n",
    "    length_function=len,\n",
    ")\n",
    "\n",
    "chunks = text_splitter.create_documents([text])\n",
    "\n",
    "N = 5\n",
    "\n",
    "print(f\"Всего чанков: {len(chunks)}\")\n",
    "print(f\"Первые {N} чанков:\")\n",
    "chunks[:N]"
   ]
  },
  {
   "cell_type": "markdown",
   "metadata": {},
   "source": [
    "**Загрузка Embedding мoдели:**"
   ]
  },
  {
   "cell_type": "code",
   "execution_count": 4,
   "metadata": {},
   "outputs": [
    {
     "name": "stderr",
     "output_type": "stream",
     "text": [
      "C:\\Users\\andre\\AppData\\Local\\Temp\\ipykernel_8156\\527724830.py:1: LangChainDeprecationWarning: The class `HuggingFaceEmbeddings` was deprecated in LangChain 0.2.2 and will be removed in 1.0. An updated version of the class exists in the langchain-huggingface package and should be used instead. To use it run `pip install -U langchain-huggingface` and import as `from langchain_huggingface import HuggingFaceEmbeddings`.\n",
      "  embeddings = HuggingFaceEmbeddings(\n"
     ]
    }
   ],
   "source": [
    "embeddings = HuggingFaceEmbeddings(\n",
    "    model_name=\"ai-forever/sbert_large_nlu_ru\",\n",
    "    model_kwargs={\"device\": \"cpu\"},\n",
    "    encode_kwargs={'normalize_embeddings': False},\n",
    ")"
   ]
  },
  {
   "cell_type": "markdown",
   "metadata": {},
   "source": [
    "**Подключение в базе данных (Elastic-search):**"
   ]
  },
  {
   "cell_type": "code",
   "execution_count": 5,
   "metadata": {},
   "outputs": [],
   "source": [
    "elastic_client = Elasticsearch(\n",
    "    hosts=\"https://elasticsearch-pv2s-production.up.railway.app/\",\n",
    "    basic_auth=(\"elastic\", \"2qq0lvgc89lwh6z5jp2q9280dcneaf95\")\n",
    ")"
   ]
  },
  {
   "cell_type": "code",
   "execution_count": 6,
   "metadata": {},
   "outputs": [
    {
     "name": "stdout",
     "output_type": "stream",
     "text": [
      "Все индексы удалены.\n"
     ]
    }
   ],
   "source": [
    "indices = elastic_client.cat.indices(h='index').split()\n",
    "\n",
    "# Удаление всех индексов\n",
    "for index in indices:\n",
    "    print(f\"Удаляю индекс: {index}\")\n",
    "    elastic_client.indices.delete(index=index, ignore=[400, 404])\n",
    "\n",
    "print(\"Все индексы удалены.\")"
   ]
  },
  {
   "cell_type": "code",
   "execution_count": 7,
   "metadata": {},
   "outputs": [],
   "source": [
    "elastic_store = ElasticsearchStore(\n",
    "    es_url=\"https://elasticsearch-pv2s-production.up.railway.app/\",\n",
    "    index_name=\"tyuiu_index\",\n",
    "    embedding=embeddings,\n",
    "    es_user=\"elastic\",\n",
    "    es_password=\"2qq0lvgc89lwh6z5jp2q9280dcneaf95\",\n",
    ")"
   ]
  },
  {
   "cell_type": "markdown",
   "metadata": {},
   "source": [
    "**Загрузка документов:**"
   ]
  },
  {
   "cell_type": "code",
   "execution_count": 8,
   "metadata": {},
   "outputs": [],
   "source": [
    "import os\n",
    "\n",
    "\n",
    "def read_files_in_directory(directory_path: str) -> str:\n",
    "    files = []\n",
    "    if not os.path.exists(directory_path):\n",
    "        return\n",
    "    for filename in os.listdir(directory_path):\n",
    "        file_path = os.path.join(directory_path, filename)\n",
    "        files.append(file_path)\n",
    "    return files\n",
    "\n",
    "\n",
    "directory_path = r'C:\\Users\\andre\\AdvancedRAG\\static\\chanks'\n",
    "files = read_files_in_directory(directory_path)"
   ]
  },
  {
   "cell_type": "code",
   "execution_count": 9,
   "metadata": {},
   "outputs": [],
   "source": [
    "def get_file_name(file_path: str) -> str:\n",
    "    return file_path.split(\"\\\\\")[-1]"
   ]
  },
  {
   "cell_type": "code",
   "execution_count": 10,
   "metadata": {},
   "outputs": [
    {
     "data": {
      "text/plain": [
       "['8877035a-077c-4f5d-8a3a-a9929ee1300b',\n",
       " 'c93509fb-bbc0-436b-a00f-85d7f2528193',\n",
       " 'a8a4d3f8-0ef6-4c48-a459-46d789c8f257',\n",
       " '8b66547f-faec-4032-8f90-83083b5b7e5b',\n",
       " '271250a1-484f-4670-8fe2-8c61ac990ace',\n",
       " '4750358f-7c62-4c72-b35b-82350b31f6db',\n",
       " '750f9688-602c-49f6-b9ed-a1ef8830170e',\n",
       " '2bd2e9bc-babe-468d-a38e-20b74fbff81b',\n",
       " 'faa779eb-823b-46f4-949d-78762922b64a',\n",
       " 'de74be79-8505-4078-b784-888584661af8',\n",
       " 'e4c9a805-a6d3-49fd-8843-169c516e8393',\n",
       " '17c8680d-c38a-44b3-8570-9c344c74e09e',\n",
       " '741f9af8-769b-44bb-95f0-be165254b419',\n",
       " '0cf1aa49-c280-4230-a59e-3fa0101a67b6',\n",
       " 'a4a24dfc-0d40-48ea-aa49-bfae88f89aa7',\n",
       " '2255dd6a-1c3a-4b32-82c6-f4ae3bc78942',\n",
       " '16abb699-1cc0-4995-9090-2162263480ed',\n",
       " 'bc569949-dd34-456f-b10b-c2b252b3f8e9',\n",
       " '5cf3525c-68be-453f-8396-14c44271d9a8',\n",
       " '4c48a4d4-01af-408a-bc99-5a639f667fdd',\n",
       " '8f6ade01-7e09-47ed-9706-ec0caca9939e',\n",
       " '3f9b9b2f-e450-4696-9f00-ac4944a71ad4',\n",
       " '8a1940f9-9e33-4b8d-a89e-a8a1ff33bcd2',\n",
       " 'cc0cf813-21a6-47d8-9c79-cec6e299fd58',\n",
       " 'e6d1bc34-3f77-4a0a-8530-8ede48e8b11b',\n",
       " '58025915-761b-4efa-8b10-b8b54e8266eb',\n",
       " '45ab84aa-de52-4b61-be0a-73c3165e4156',\n",
       " 'a38ebddd-159f-4f8c-915a-e50e1cdacb77',\n",
       " 'e5ddd318-38b4-471f-9426-f0c2ab5e782d',\n",
       " 'f39ad223-62d0-44f5-9bb3-f237658e12df',\n",
       " '46fe5ff0-5f60-46d2-b3c8-9d1903efcd41',\n",
       " '55b6b08b-924a-49e4-8a0a-9e63d4ffbb26',\n",
       " '8d1f8b28-c0da-4c86-b1e4-e9a5510e9040',\n",
       " '33655db4-2e1c-41d3-8c30-ffa7aafd0ff2',\n",
       " '8ffb3dc1-9b38-4721-8844-648195805dfe',\n",
       " 'aa0377d6-9e9a-452d-b08e-9f9d81020f57',\n",
       " '008cc451-8067-4e5d-ade9-1cf2d097c7cc',\n",
       " 'afbfed78-4ccc-44a7-a698-1884d790c828',\n",
       " 'ac298078-ce03-4cf9-ab7e-e032409119c7',\n",
       " '97a372f6-f835-4524-bbac-367835ba1ce8',\n",
       " '731c4163-7381-4c5d-baf1-bbbf6b417eeb',\n",
       " '6fc45ea7-e0c6-472a-822a-48a91b261aad',\n",
       " 'a4df2c67-63c0-463d-a0c4-bebac37a1520',\n",
       " '5038c1cf-bbbb-4de6-b143-aa1e9471fb39',\n",
       " 'f0a78f08-adb1-45ce-88fb-e1228cfe2bef',\n",
       " 'b4aea3f2-40f6-4cee-9091-3fd1171a5f83',\n",
       " '7dfcb3ee-ba77-478d-99ff-ad9dd8c3147b',\n",
       " 'd06b8ec1-ee7d-4d29-b02c-2b5bc9d8bc8b',\n",
       " '062a3575-1b06-47ed-a878-8e7fdb6058e4',\n",
       " 'd5d9ad54-a5ed-4a16-ae76-50d6a9f507f9',\n",
       " '89c68f70-920f-44db-9abd-265c4dc28b19',\n",
       " '1de8e016-2474-4b55-b182-5148a5ca900d',\n",
       " '45adadbe-5f58-4f0a-adc8-888b176153d8',\n",
       " 'a8d79595-1de4-4a0d-acdf-ecdf84f3063c',\n",
       " '75edb28a-980e-4361-a310-c1799e38de7f',\n",
       " '394ef70c-ac93-4eec-bb1d-75adce898d0a',\n",
       " '69f01d6a-ed3e-4ce7-af8c-79f0a9738a15',\n",
       " '419ecad5-83a1-4dac-b3b8-459fc32511d7',\n",
       " 'b48591e4-00d7-4b42-a761-e51e6c232a26',\n",
       " 'e9ca3443-5442-426f-9615-e4d6f774ac03',\n",
       " '6f938d80-0762-4a4b-8521-e96fc48240b7',\n",
       " '2e76aa09-74e9-4286-aca8-488d1300252c',\n",
       " 'baf4a4a0-4dbe-45b9-bee0-206206b0c3b8',\n",
       " '1e2af66d-2e27-4bd4-8a75-28b9547305e0',\n",
       " 'd171b73c-2fc9-464a-afc6-61f2ed7c9336',\n",
       " 'f6a90871-02b3-4c9d-9c74-5f8fc0601e57',\n",
       " '9a217fd6-1997-469c-b14d-89828c723032',\n",
       " 'aeb2ef6a-4584-46e9-b0f0-3a73f9299a0d',\n",
       " 'a93350fb-fc04-444a-bda2-c284c098375b',\n",
       " '845bde31-cf1b-4815-80e8-59f5d84a8a63',\n",
       " '9bc95500-10f3-4b44-b4a5-d6d107718027',\n",
       " '5becd6b4-761e-4dd0-8f4d-1f9d895186e3',\n",
       " '30f073c0-a0dd-49fc-93e7-db9b7246462c',\n",
       " '14fa9a37-45d7-481d-a7db-caebb338d733',\n",
       " '87b5edc6-14e5-4085-bf22-620ab249c9d4',\n",
       " '1a69ac13-a088-4de1-b5c0-e20eed455989',\n",
       " '07a22141-5f17-4914-9dde-db423b603f17',\n",
       " 'a4a26911-a83c-4561-b34b-444a734b503e',\n",
       " '35a3b85f-1ff7-46bf-a09f-033186ae9778',\n",
       " 'ddd15432-76e7-4754-9d81-812ddce4081a',\n",
       " '5d2548be-52f9-4da2-a6c2-2d7f592d4257',\n",
       " 'feae5ef2-0c93-406a-94e5-0ce76337ba31',\n",
       " '569e29a2-cb2c-4982-8b9a-9c66043df63d',\n",
       " 'b0325d18-9b7f-42a6-9fd3-813d8d8c20c9',\n",
       " '060b86bb-ce2b-41fc-9780-152a86732958',\n",
       " '1df5d610-7be8-4b56-ac49-eeeb14d06fd7',\n",
       " 'c1f0b49a-438c-437e-86b8-dd7749582fa4',\n",
       " '82f10add-42f5-4742-9ecd-c27e3627c157',\n",
       " '93a69070-0935-44c1-892c-d70caa5aaf8f',\n",
       " 'fb940833-166a-4816-a935-875c6de1a40d',\n",
       " '5779b045-c5ce-4258-b08d-f3b76777a4be',\n",
       " 'babf4953-c52d-4076-94c6-94a5c69ab788',\n",
       " 'bbd3ee4c-f886-4b3b-954d-859063bc6385',\n",
       " 'ce3de804-ccdd-46db-9e5f-91a514c1d5e7',\n",
       " '299fb975-a89f-4bf6-a5ed-2d7cdaa68e81',\n",
       " '27b917a7-fc5d-409e-bad7-d0f32e80c4cc',\n",
       " '9be77cc0-0f70-4ee1-8ba8-197cc5df4d3a',\n",
       " '85ed7052-e42b-47ed-872e-745a2a1c30b1',\n",
       " '17072b50-c069-4c3e-a923-c327d01c01ad',\n",
       " 'f1d6460c-ed54-4677-bf0c-92a05f395f35',\n",
       " '52b70ea3-48e5-49b3-9606-c0091f18f392',\n",
       " 'b6108622-faf0-4236-a800-ff7c68d5f5e9',\n",
       " '86904cd0-044a-4a68-bdc3-9b5fefcb4d7a',\n",
       " 'eca2a05d-3a1a-46b6-80c8-b31a71d1addb',\n",
       " '0d0235ed-0ed1-465c-aed2-03b98b9f7c19',\n",
       " '21a05337-c92d-4fac-a619-2d3a56db3ffe',\n",
       " '9efb4aaf-8c44-4abc-a3ea-e500e46c6ef5',\n",
       " '57f73466-278d-44f9-9617-154e7cd70c21',\n",
       " '381e800d-54ca-4087-a873-d00638c221d1',\n",
       " '1f97f267-fa3f-45f8-9b3f-9803ec8ce2a3',\n",
       " 'abd50744-0f99-4160-8c92-d324f3f00edb',\n",
       " 'a386db68-eef6-47e7-ad28-4833235b82b0',\n",
       " 'd875d4e4-b295-4d4d-abfa-804433efa062',\n",
       " 'e5dfca13-8589-410d-94c6-88087014481f',\n",
       " 'c5db1944-9ba2-4aa1-9a2f-1ebac26c519b',\n",
       " 'afbf08d3-297a-4ae1-afb9-d2d6e4dd55ea',\n",
       " 'd274086c-7ee4-4eb9-b370-cf1131d737cd',\n",
       " 'cd855b27-8f0c-4b1d-a4eb-1b5db4bac502',\n",
       " 'd3d1c1ec-a2e2-4233-b8d1-9b6ae3f443f2',\n",
       " '2e3c35bf-a5eb-47ef-a2b6-d6e875c179b5',\n",
       " 'f8a0ff30-09af-40fe-8fa6-f0d0f0a1f40f',\n",
       " '9660013e-423c-4d17-a97c-2457a527e10f',\n",
       " '11709baf-f528-4611-bb19-26d5dca6b6d7',\n",
       " '62b4beb7-bb4e-4350-ac6f-11967a7ae070',\n",
       " '79f63f9f-20c8-4462-aae0-8e94036715f4',\n",
       " '268477e9-da14-4bd8-80be-5bb3f68711e4',\n",
       " '4dac9fca-8efe-4371-a826-6c3e73c0f515',\n",
       " '2f4dba6f-3b84-41a5-8b6d-eb0ff91696b9',\n",
       " '2abbcc8b-7ce0-47b1-9880-fa3cff4d3fa2',\n",
       " 'f5171860-ce73-4720-9cc9-6bf2721bd1cb',\n",
       " '386ddd10-5c25-4304-970b-5b557f4e23fc',\n",
       " '9a6a9c21-10e8-41a0-a00d-e9c05b78f40f',\n",
       " '9a9776f8-4744-474e-98ba-c78ef9b23aa9',\n",
       " 'adfcf283-78a7-42ac-99c3-352b0a8df30e',\n",
       " '6a277dc5-7e04-46ec-9e39-7d0d8a95871e',\n",
       " 'e404c013-54cc-4d9e-8d22-6b09d9a010de',\n",
       " 'a2bffe3d-2540-4412-8ed5-3ef9c39b0d99',\n",
       " 'b8cf68b1-bfc5-43d5-b1c5-c8a70b16cb77',\n",
       " 'a0409081-20c2-49c8-9a1b-40882fab84d5',\n",
       " 'b4d28ff4-04fd-4f94-8ded-ea74dbdd188c',\n",
       " 'dc3d820a-af74-48e4-bc92-202e4a6f9d4a',\n",
       " 'a9a5406c-a446-49da-9cfd-2a1e0a21a112',\n",
       " '6e5fdc06-8522-4da1-a6a9-7f0fdcb73554',\n",
       " 'a0fb86b9-d14b-4dc9-9d52-bf4d14cf8379',\n",
       " 'c2e2ab2d-a3b8-4b04-91ba-35323623ab5e',\n",
       " 'a762651a-d007-4553-856d-b67d2913cd26',\n",
       " 'dae736fb-5f31-4844-9ef2-a45ab0f025de',\n",
       " 'e5636b73-41ca-4861-8351-1a7674cb642d',\n",
       " 'a112d248-1220-4a80-8785-9e6346a7aa07',\n",
       " 'c9c63865-4737-4bac-96cf-f28b23705658',\n",
       " '34a5271f-67c2-4002-8515-b1aa24ec08f5',\n",
       " '205bd322-ea19-4e6d-98f6-952c3a2a865c',\n",
       " '589f7108-3a3c-4599-8e52-c1857b0ffcf2',\n",
       " 'd2030942-0bda-4aed-b828-3753a3b77ccc',\n",
       " '95de4888-0b79-4871-9b3e-1c2f8aa3cfd3',\n",
       " '774eac6b-d358-47a8-bd59-737eea2a66fe',\n",
       " 'b43e83b0-0194-42fe-a5b9-9be40b64a035',\n",
       " '08c11968-9590-4889-9310-c686bb737108',\n",
       " '82b32786-c72f-4900-94fc-6c49a7d3603b',\n",
       " '7928d96f-cda2-45c9-969b-4e8e5e013f3c',\n",
       " 'e6cc7f76-0176-4194-bd49-204c862a7d57',\n",
       " '8fb16327-6bf8-4fbe-b388-e8b90c8a8df7',\n",
       " '687c8a1b-d0e1-4c6b-91eb-a735fa7a90b9',\n",
       " '2e3e116b-d91c-450e-a90f-f7d87fea0a7d',\n",
       " '3e1c3387-9234-4025-82c2-638968f6c33d',\n",
       " '64450550-5445-4c3a-9b56-882550db566a',\n",
       " '4ca98c77-3f20-481d-8f94-a9d36f415946',\n",
       " 'e6788752-f02b-40ec-8c93-f6f66f5d1cf1',\n",
       " '98e55cb0-1066-4782-8282-90eb2af7e27e',\n",
       " '33ef73eb-d94a-4db4-b5df-2b30923ccc59',\n",
       " 'd341f81c-2409-462a-afbd-0444d5045d2f',\n",
       " '20c42b86-360f-4833-9b66-92723d9260d6',\n",
       " '453692b1-327e-40d3-ac7a-334799f75942']"
      ]
     },
     "execution_count": 10,
     "metadata": {},
     "output_type": "execute_result"
    }
   ],
   "source": [
    "elastic_store.add_documents(documents=chunks)"
   ]
  },
  {
   "cell_type": "code",
   "execution_count": 11,
   "metadata": {},
   "outputs": [
    {
     "data": {
      "text/plain": [
       "[Document(page_content='В области строительства и транспорта по специальностям «Автомобильные дороги», «Объекты транспортной инфраструктуры», «Производство и применение строительных материалов» и «Организация инвестиционно-строительной деятельности» проходной балл составляет 43 (платно) и 51 (бюджет).'),\n",
       " Document(page_content='Курсы ориентированы на подготовку учащихся 10-11 классов к поступлению в ВУЗы по направлениям: 07.03.01 Архитектура, 07.03.03 Дизайн архитектурной среды, 54.03.01 Дизайн.\\nПреимущества обучения в Центре архитектурной подготовки:\\n- высококвалифицированный педагогический состав, в том числе члены Союза архитекторов, дизайнеров и художников России;\\n- программа обучения базируется на специфике архитектурного и дизайнерского творчества;\\n- благодаря полученным навыкам выпускники центра поступают в профильные ВУЗы страны и начинают свою деятельность в области архитектуры и дизайна;'),\n",
       " Document(page_content='Для направлений, связанных с экономикой и управлением, например, «Логистика и управление цепями поставок», проходные баллы составляют 45 (платная форма обучения) и 81 (бюджетная форма обучения), а для «Экономического управления предприятиями топливно-энергетического комплекса» — 45 (платная форма обучения) и 69 (бюджетная форма обучения).\\n\\nТворческие направления, такие как «Дизайн интерьера» и «Дизайн городской среды», имеют проходной балл 51 (платный) и 75 (бюджетный).'),\n",
       " Document(page_content='Школа инженерного резерва реализует множество дополнительных образовательных программ, таких как проект Код будущего, всероссийский конкурс Инженерный резерв России фестиваль по искусственному интеллекту и алгоритмическому программированию RuCode и другие. Это позволяет нам совершенствоваться и оставаться впереди инноваций, чтобы обеспечить качественное образование и подготовку будущих инженеров.\\nКраткая информация о Инженерной школе:\\nС КАКОГО ВОЗРАСТА МОЖНО ЗАПИСАТЬ РЕБЕНКА НА ОБУЧЕНИЕ В ШИР (Школа инженерного резерва)? Занятия проводятся для детей с 1 по 11 класс')]"
      ]
     },
     "execution_count": 11,
     "metadata": {},
     "output_type": "execute_result"
    }
   ],
   "source": [
    "docs = elastic_store.similarity_search(\"какой минимальный проходной балл на направление архитектура\")\n",
    "docs"
   ]
  },
  {
   "cell_type": "code",
   "execution_count": 12,
   "metadata": {},
   "outputs": [],
   "source": [
    "bm25_retriever = ElasticSearchBM25Retriever(\n",
    "    client=elastic_client, \n",
    "    index_name=\"docs-tyuiu-index\",\n",
    "    search_kwargs={\"k\": 2}\n",
    ")"
   ]
  },
  {
   "cell_type": "code",
   "execution_count": 13,
   "metadata": {},
   "outputs": [
    {
     "data": {
      "text/plain": [
       "['eb7dd8a4-dbc9-474d-9b9f-fd3f4ded6483',\n",
       " 'c1546d9d-412f-400b-8d5a-0957bae74e68',\n",
       " 'fa753036-9a91-4296-bc6d-358361196c13',\n",
       " 'f6893471-1c62-4e44-9b6d-a3e053ed27e9',\n",
       " '0385a067-4b15-47da-b919-87f686f1afc0',\n",
       " '2f2a4eb5-a16d-45e3-8991-4efb4b9e264f',\n",
       " 'ec44d2ef-981d-4709-a7fa-29b79818eafa',\n",
       " 'db8ed7d0-6541-49f4-abd0-6955aa942925',\n",
       " 'a77ad7ad-2387-4fb7-bb3c-bfee2e014f3d',\n",
       " '4903178d-5939-459e-8abb-02b3b743d63f',\n",
       " '31c6ac52-def8-4117-8d1d-91c950233e32',\n",
       " '1e19936c-13e2-409c-b6bc-62ead2e76481',\n",
       " 'cc817a36-62e4-437b-95a0-77e636dedcd6',\n",
       " '1849b3c7-4cd8-444e-8957-9d6c61fbedae',\n",
       " '288508e2-7aa4-49d4-9932-fae15c61e546',\n",
       " '0002fa14-db33-48ff-bdd9-6fa3871650dc',\n",
       " 'e223dafc-511b-42fb-9f4f-7a6b036a41cd',\n",
       " '3ef8895e-b7ef-4a3b-b479-c0cf1cc26767',\n",
       " '0a50ee66-6a77-4b38-b407-8258a6f0bfb6',\n",
       " 'db7fafb4-da1b-4d9b-970d-690be271ae57',\n",
       " 'cc0c75bd-e65d-4fb1-a10d-67146c4b4411',\n",
       " 'c0089662-dad7-4792-9ecc-2c0a9cbfcf18',\n",
       " '697f2528-3338-4105-b890-b545b76afa19',\n",
       " '1d281141-d5c6-4bbc-8195-d0ebf4b8314a',\n",
       " '25e36c95-1746-4dbf-88e8-db34e895871f',\n",
       " 'b237548d-ace0-4dc2-a236-7506fdcb978c',\n",
       " '54205c77-6200-4fd1-9bd2-c77aa76a4fb3',\n",
       " 'c8fe1bdd-210e-4000-ae69-32614836d68f',\n",
       " '9393b213-dc71-49a7-ad98-9f954e8b533d',\n",
       " '3d05bd90-b878-4f0a-bfa8-a9167d08f2d9',\n",
       " '765fdcb7-af41-4493-a6b6-0335c0488af2',\n",
       " '1aeeb383-99c7-4b1e-b6e3-9c4219e30876',\n",
       " '3fe7ef4e-7df8-4c8d-a08e-629d809c0145',\n",
       " '3607da97-a4f1-4b1f-9b96-9d17167a4c4f',\n",
       " '0fc77a1c-784c-45ad-b9e4-fa465a3c2f39',\n",
       " 'cc220b28-012e-4c00-9e6b-6b75db99b499',\n",
       " '96d17512-44e6-414d-aa61-d7af142aefe8',\n",
       " 'ce3148fe-b543-4ad1-b766-296503317e98',\n",
       " '3df33d85-2040-44e8-b3f9-589c65f9815a',\n",
       " 'a85749d1-3004-4164-80d8-03a8cca2f9fd',\n",
       " 'd5bc8cb6-7ec4-47b6-b91f-4b474e048342',\n",
       " '74a129cc-9e27-4131-81de-61b4036384df',\n",
       " 'fbe98605-e0d4-4145-b815-fe3155124a21',\n",
       " '6afd6396-96d9-4be0-a5f1-278b90612ded',\n",
       " 'd83ac54d-d4f3-4423-90fd-88e9c0cae996',\n",
       " '864bd555-a3fb-4f87-9859-0f81be9cdf80',\n",
       " '724882e7-c0af-4b4a-9935-d27282c5a54c',\n",
       " 'd809bbbe-d970-41d6-b900-0861fcea8d2e',\n",
       " '41200d19-a42f-4c2a-a355-254457071674',\n",
       " '99d63aaa-bb3b-47ff-b424-a6da50cafb4f',\n",
       " 'e68768f5-dc8a-47f5-9bda-889ced55b38d',\n",
       " '8484ebef-f20e-4f6c-9c50-01663c13851a',\n",
       " 'cf969bb5-df8e-4d25-9d57-e62b6589ae03',\n",
       " 'c6e846fe-a8d2-40c9-8c8b-12e3a09cca8f',\n",
       " 'ece3ee17-b7cd-4e2b-b1b1-8861e7fb2876',\n",
       " '5a2d32b0-d437-42e6-9541-11808deec956',\n",
       " '8315800d-f99f-4206-b871-49e61a5efd44',\n",
       " '43e22d4a-655e-40fd-8cff-5ac119e4cadb',\n",
       " 'f587fb7e-e7f8-429f-b5d0-f1e800b8d097',\n",
       " '662ed7cc-b63f-4954-9c72-4e53f9fd06c1',\n",
       " '3e7b6daf-5bd8-47e2-83db-b37b9dc24638',\n",
       " '99c8fc73-b06e-4f29-a5d2-4ba959476716',\n",
       " '5fab331f-20fa-4b99-963c-dd6ea1630633',\n",
       " 'ac9d0137-3c5f-4d88-b287-42b08ff87fe4',\n",
       " '156e917e-49f0-464e-924e-f5d7613f3f1b',\n",
       " 'f4adb3ff-f3ac-485c-8755-19918993a224',\n",
       " '7fcfe8fc-f81b-462a-94c6-56bf66815b47',\n",
       " '0bf6b2c0-f240-42fc-ade4-a3582d0128c3',\n",
       " 'd80db557-ad7a-4944-9e40-272693926f23',\n",
       " '4a507ab7-2741-4751-825e-e826373a7878',\n",
       " '439728e3-9319-4124-98dc-d5fe718355c0',\n",
       " 'a04a4273-9700-4a94-9971-f9797a556648',\n",
       " 'd28e7a89-6282-47c8-a9d4-e6a28f4b584c',\n",
       " '5ced98ff-36d1-412a-a182-934106f3ca9a',\n",
       " 'cb45778c-69c6-4c36-8e0d-b3407bf7c2b6',\n",
       " 'fa5d59cb-5e70-461d-8435-cd834478618c',\n",
       " '7d0d4a0a-30fb-4201-98c5-a52422a7370a',\n",
       " '29bd7b82-9fa2-47aa-bf9a-362bf80559a9',\n",
       " '477a0a6a-f7a0-475a-88a4-bf7851a1e1bb',\n",
       " '49adb1fb-26a1-4f29-b77b-37ec4dc09618',\n",
       " 'e6817c8c-fc03-4065-ad42-baecae87fec7',\n",
       " '4c5f0f21-6860-4199-a5a3-627cb5b87930',\n",
       " 'aa2810a6-97dc-427a-9593-784894cc0d49',\n",
       " '7726ab3e-d250-44d8-9a39-4551e88d88a8',\n",
       " '46a6812b-7c6f-4f62-ac34-a89e35b98971',\n",
       " '05a516a4-433d-4351-b156-65bf2011894d',\n",
       " '79056542-a301-46e0-8006-8de788c522d9',\n",
       " 'adcbe3a5-aa5d-4aed-a148-75b36133cd9e',\n",
       " '6303286a-4d1b-4d9b-a322-4d2c12c7ea6f',\n",
       " '23ba2d2e-20cf-4caa-aab5-9cf199185792',\n",
       " '391d38f8-b981-4b0b-a393-f9d49396cdb7',\n",
       " 'c8810879-693d-47f5-b8d0-6beb37dc9a08',\n",
       " 'd194afb6-36dd-4757-9d8f-2e3f9a92236d',\n",
       " '13a293a8-ceba-4d17-a94d-ff23057e5779',\n",
       " 'f1719fa0-1d61-4fc8-a304-771aa085052c',\n",
       " '77e53843-13a9-4e7e-b821-ad1c75cad2bc',\n",
       " '21ce96a7-068e-4fbd-8d0a-fef0be4a6cf4',\n",
       " 'b430305a-feba-4a88-9e4c-31505c0b718c',\n",
       " '47b08353-73fc-4506-88fa-a5d3501a340f',\n",
       " '04ec5252-08ad-4ad5-a1ea-54c412573758',\n",
       " '3e0d26a8-fdbe-4bf5-9e50-9fd8198f93d7',\n",
       " '7988c6fe-6e4c-4150-9c4b-4c7831fd7ccb',\n",
       " 'b2f9792e-f20a-4f86-bbec-190c30556e29',\n",
       " 'c1f0e752-a6a5-4282-84c3-c2500c4e82f7',\n",
       " '4e9f6cf8-bccb-47b6-b67b-c29a14f97450',\n",
       " '56bc09a9-2bcd-4999-b3b6-e70ef3c8a706',\n",
       " '51610d85-1032-4fd7-9783-42de3fb1a94d',\n",
       " '2cc8340c-b967-414f-a5fb-d3322468a6cc',\n",
       " 'e5507fe2-74b0-4d6e-aaf4-623b1c386b6b',\n",
       " '269f7aa4-1b81-4f62-ae05-3dbb6c1e1dd9',\n",
       " 'a60da753-6b43-4101-82a5-397d1fc9ba32',\n",
       " '0c5828cb-f1bc-40d0-bb0f-beb508d2308f',\n",
       " '516ade03-ddad-47fd-b480-5f25a7aa0a1d',\n",
       " 'dfaae105-9b3d-4e28-9be9-9183064a6232',\n",
       " 'bd3f788f-ca7a-4e03-ad96-9568a9df7c8d',\n",
       " '7841dd8d-e4e5-4f5b-859b-71fd323f8a9a',\n",
       " '42061eb7-2730-43d6-953b-6b12ade107df',\n",
       " '29d1d874-fbc9-4c49-b00b-f278ede59f63',\n",
       " '7c48240e-3dca-4ec5-884f-73584981dad5',\n",
       " '1ff5276c-5c07-4cd5-b112-21b0aa22fce0',\n",
       " '6c10e213-7675-4044-b702-c22004538c86',\n",
       " 'd6b65b0d-9761-4643-a7f8-14449e7d9c9b',\n",
       " '9945e6e0-e105-43d7-a747-72e8e4a54db5',\n",
       " 'e25d48e3-c2bf-45a9-b53c-32860cb8d5c2',\n",
       " '1be7af09-8cac-47d3-b569-c04114770b67',\n",
       " 'c0326b00-0802-4d1b-b890-e5edb4e26edd',\n",
       " '61301e73-cfe3-4f69-b6e4-cce2d78b6c4e',\n",
       " '4d2969e7-d327-4a74-993c-74289d41445d',\n",
       " 'bd7e0730-1731-4f55-a458-18860100fcb9',\n",
       " 'f38763bd-00f2-411b-beca-82e064deb1e2',\n",
       " 'e478f400-538c-45a9-bb76-0a2eecfd102e',\n",
       " '1fe6e282-e3cf-4a86-bc22-9020c35f0b0f',\n",
       " 'ab3d81ee-76cb-4af0-9297-c192a9af2c84',\n",
       " '662492dc-dcc8-41fe-b4e1-414042a76dff',\n",
       " 'cb480412-697e-4217-961d-5f4728155da6',\n",
       " '1819afcd-faab-4982-b391-18dda1624f55',\n",
       " 'eb739001-0425-4f7f-9075-254311557ec0',\n",
       " '41781c2b-4e4e-4cf3-bc4f-1e65dd626460',\n",
       " 'ce4eb432-f4f9-46ec-88c6-472d43249d72',\n",
       " '23430323-7c66-4403-b940-7840a86736bc',\n",
       " 'd42fdd31-9646-4c60-a3b0-f5bd19252792',\n",
       " 'e99028ac-2b7c-46c0-9281-c5eda80fb889',\n",
       " '02a8ca28-e383-42e8-8486-9c43d209cac8',\n",
       " '23ae65c7-c968-4719-81db-5b7d1576db31',\n",
       " 'f6dd1b78-4cc7-42fd-96f6-9c5dd072bf13',\n",
       " '09556ba2-cf14-4c0c-a990-2ee26a4469fe',\n",
       " '981bfea3-ffc2-4bd9-85c2-4a1092e0111a',\n",
       " '4f054e65-6865-40a5-98d8-1894b99a3cb0',\n",
       " 'fb0e2b2f-21e8-44b1-acdf-5aebf8fc54bf',\n",
       " '35e0c49a-2b93-4175-b72c-b2acb90632c0',\n",
       " '91c89004-2645-4037-a653-0d9e04086a4f',\n",
       " '27f9b4a0-651a-4c8a-acc5-07c345a7071c',\n",
       " '24230f21-386f-4204-9f7c-bda830224a3a',\n",
       " 'aecb71da-e15d-4299-9272-57a6ca964e78',\n",
       " 'a6391e65-d14a-4932-9f9c-b4052ddaf1b3',\n",
       " '0dd5f401-0096-48f2-86b1-fc2b62562295',\n",
       " 'e021d33d-b228-4dfe-8229-a90fd4a2ea6e',\n",
       " 'e71598c5-d95d-4444-8136-39c0462759f1',\n",
       " '102cc472-2a99-4947-8b3b-681318b8d951',\n",
       " '1b63c3b7-33e1-48d6-bba5-b852a24d126a',\n",
       " '9fd86ab5-944c-4572-9389-d95f39cf4a73',\n",
       " '70adf4cc-bb39-4e1a-b9cb-388df7405403',\n",
       " '2ca0ce83-87e7-40c5-b620-66aa26685080',\n",
       " '179f95e9-080e-4652-9342-5a2689fef11c',\n",
       " '22d19b2a-fca1-4aae-a03d-628af13330d8',\n",
       " '74b7d430-be9d-4a06-a2b4-746196f7d64e',\n",
       " '6798bf74-d9bc-41b4-b6b3-9178c068f0ac',\n",
       " 'e06a2fda-b430-4f77-a40b-6d83cc6e0c5d',\n",
       " '01c195e6-9a78-427b-a9b5-92adb5ccaaf5',\n",
       " '989cd3a9-17bb-4247-abdf-5a13ddac8c06',\n",
       " 'd52cfe36-dbe7-4588-a10a-33f7e57709bd',\n",
       " 'e81266bc-896e-4271-83b7-5933b7fddfcf',\n",
       " 'fb38616f-ab1e-429c-8959-d8d22de167ac']"
      ]
     },
     "execution_count": 13,
     "metadata": {},
     "output_type": "execute_result"
    }
   ],
   "source": [
    "bm25_retriever.add_texts([document.page_content for document in chunks])"
   ]
  },
  {
   "cell_type": "code",
   "execution_count": 14,
   "metadata": {},
   "outputs": [],
   "source": [
    "vector_store_retriever = elastic_store.as_retriever(search_kwargs={\"k\": 2})"
   ]
  },
  {
   "cell_type": "code",
   "execution_count": 15,
   "metadata": {},
   "outputs": [],
   "source": [
    "from langchain.retrievers import EnsembleRetriever"
   ]
  },
  {
   "cell_type": "code",
   "execution_count": 16,
   "metadata": {},
   "outputs": [],
   "source": [
    "ensemble_retriever = EnsembleRetriever(\n",
    "    retrievers=[vector_store_retriever, bm25_retriever],\n",
    "    weights=[0.6, 0.4],\n",
    ")"
   ]
  },
  {
   "cell_type": "code",
   "execution_count": 17,
   "metadata": {},
   "outputs": [
    {
     "name": "stdout",
     "output_type": "stream",
     "text": [
      "Всего документов найдено: 11\n",
      "page_content='В области строительства и транспорта по специальностям «Автомобильные дороги», «Объекты транспортной инфраструктуры», «Производство и применение строительных материалов» и «Организация инвестиционно-строительной деятельности» проходной балл составляет 43 (платно) и 51 (бюджет).'\n",
      "page_content='Курсы ориентированы на подготовку учащихся 10-11 классов к поступлению в ВУЗы по направлениям: 07.03.01 Архитектура, 07.03.03 Дизайн архитектурной среды, 54.03.01 Дизайн.\n",
      "Преимущества обучения в Центре архитектурной подготовки:\n",
      "- высококвалифицированный педагогический состав, в том числе члены Союза архитекторов, дизайнеров и художников России;\n",
      "- программа обучения базируется на специфике архитектурного и дизайнерского творчества;\n",
      "- благодаря полученным навыкам выпускники центра поступают в профильные ВУЗы страны и начинают свою деятельность в области архитектуры и дизайна;'\n",
      "page_content='Для направлений, связанных с экономикой и управлением, например, «Логистика и управление цепями поставок», проходные баллы составляют 45 (платная форма обучения) и 81 (бюджетная форма обучения), а для «Экономического управления предприятиями топливно-энергетического комплекса» — 45 (платная форма обучения) и 69 (бюджетная форма обучения).\n",
      "\n",
      "Творческие направления, такие как «Дизайн интерьера» и «Дизайн городской среды», имеют проходной балл 51 (платный) и 75 (бюджетный).'\n",
      "page_content='и социальной коммуникации” (мин. балл 45, макс. 100), вместо “Физики” - “Инженерная физика” (мин. балл 39, макс. 100), вместо “Химии” - “Инженерная химия” (мин. балл 39, макс. 100), вместо “Географии” - “География природопользования” (мин. балл 40, макс. 100), и вместо “Литературы” - “Отечественная и зарубежная литература” (мин. балл 40, макс. 100). Внутреннее вступительное испытание по русскому языку для поступающих на базе профессионального образования соответствует общеобразовательному экзамену по русскому языку, имеет минимальный балл 40 и максимальный балл 100, также проводится в форме'\n",
      "page_content='Для абитуриентов с средним профессиональным или высшим образованием (поступающие на базе профессионального образования) вступительные испытания соответствуют общеобразовательным, но имеют другие названия и проводятся в форме тестирования на русском языке. Например, вместо “Информатики” сдаётся “Информатика и основы программирования” (мин. балл 44, макс. 100), вместо “Истории” - “Мировая и отечественная история” (мин. балл 36, макс. 100), вместо “Математики” - “Математика и начала математического анализа” (мин. балл 40, макс. 100), вместо “Обществознания” - “Основы обществознания и социальной'\n",
      "page_content='За место ЕГЭ:\n",
      "При поступлении на программы бакалавриата и специалитета некоторые категории абитуриентов, включая тех, кто имеет профессиональное образование, могут сдавать внутренние вступительные испытания по общеобразовательным предметам вместо ЕГЭ.\n",
      "Это право имеют:\n",
      "Лица, поступающие на места в пределах отдельной квоты, независимо от того, сдавали ли они ЕГЭ и какой у них результат.\n",
      "Инвалиды (включая детей-инвалидов) при поступлении на места в пределах особой и целевой квот, на основные бюджетные и платные места, также независимо от участия в ЕГЭ.'\n",
      "page_content='Минимальный балл ЗФО:'\n",
      "page_content='Минимальный балл ОФО:'\n",
      "page_content='Минимальный балл О-ЗФО:'\n",
      "page_content='Для поступления на направление “Архитектура” (07.03.01) нужно сдать два дополнительных вступительных испытания творческой направленности: “Композицию” и “Рисунок”. Минимальный балл для каждого из них - 40, максимальный - 100. Оба испытания проводятся в форме письменной работы на русском языке.\n",
      "Для поступления на направление “Дизайн архитектурной среды” (07.03.03) также необходимо сдать два дополнительных вступительных испытания: “Композицию” и “Рисунок”. Минимальный балл для каждого из них - 40, максимальный - 100. Испытания проводятся в форме письменной работы на русском языке.'\n",
      "page_content='Для поступления на направление “Дизайн” (54.03.01) требуется одно дополнительное вступительное испытание творческой направленности - “Цветографическая композиция”. Минимальный балл для него - 40, максимальный - 100. Испытание проводится в форме письменной работы на русском языке.'\n"
     ]
    }
   ],
   "source": [
    "config = {\"configurable\": {\"search_kwargs_elasticsearch_store\": {\"k\": 1}}}\n",
    "docs = ensemble_retriever.invoke(\"Какой проходной балл на архитектуру\", config=config)\n",
    "print(f\"Всего документов найдено: {len(docs)}\")\n",
    "for doc in docs:\n",
    "    print(doc)"
   ]
  }
 ],
 "metadata": {
  "kernelspec": {
   "display_name": "Python 3",
   "language": "python",
   "name": "python3"
  },
  "language_info": {
   "codemirror_mode": {
    "name": "ipython",
    "version": 3
   },
   "file_extension": ".py",
   "mimetype": "text/x-python",
   "name": "python",
   "nbconvert_exporter": "python",
   "pygments_lexer": "ipython3",
   "version": "3.11.3"
  }
 },
 "nbformat": 4,
 "nbformat_minor": 2
}
